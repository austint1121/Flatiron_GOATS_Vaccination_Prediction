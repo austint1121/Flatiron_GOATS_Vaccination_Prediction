{
 "cells": [
  {
   "cell_type": "markdown",
   "metadata": {},
   "source": [
    "# Project Title"
   ]
  },
  {
   "cell_type": "markdown",
   "metadata": {},
   "source": [
    "## Overview\n",
    "\n",
    "A one-paragraph overview of the project, including the business problem, data, methods, results and recommendations.\n",
    "\n",
    "## Business Problem\n",
    "\n",
    "- Stakeholder - Literally anyone\n",
    "- Business problem:\n",
    "    - Random city in random state is ordering Covid vaccines and is fully aware that not everyone will get the vaccine. Random city wants to know how many Covid vaccines they should be ordering.\n",
    "- Target: H1N1\n",
    "- Cost of different errors FP/FN\n",
    "- False Positive: Model predicts they will get the vaccine, but didn't.\n",
    "- Ordering too many vaccines and wasting money/material\n",
    "- False Negative: Model predicts they won't get the vaccine, but did.\n",
    "- Vaccine shortage. Loss of life.\n",
    "- Metric:\n",
    "  - Recall\n",
    "  - F1-score"
   ]
  },
  {
   "cell_type": "code",
   "execution_count": 1,
   "metadata": {},
   "outputs": [
    {
     "name": "stdout",
     "output_type": "stream",
     "text": [
      "Requirement already satisfied: category_encoders in c:\\users\\paul\\anaconda3\\envs\\learn-env\\lib\\site-packages (2.3.0)\n",
      "Requirement already satisfied: scikit-learn>=0.20.0 in c:\\users\\paul\\anaconda3\\envs\\learn-env\\lib\\site-packages (from category_encoders) (0.23.2)\n",
      "Requirement already satisfied: scipy>=1.0.0 in c:\\users\\paul\\anaconda3\\envs\\learn-env\\lib\\site-packages (from category_encoders) (1.5.0)\n",
      "Requirement already satisfied: pandas>=0.21.1 in c:\\users\\paul\\anaconda3\\envs\\learn-env\\lib\\site-packages (from category_encoders) (1.1.3)\n",
      "Requirement already satisfied: numpy>=1.14.0 in c:\\users\\paul\\anaconda3\\envs\\learn-env\\lib\\site-packages (from category_encoders) (1.18.5)\n",
      "Requirement already satisfied: patsy>=0.5.1 in c:\\users\\paul\\anaconda3\\envs\\learn-env\\lib\\site-packages (from category_encoders) (0.5.1)\n",
      "Requirement already satisfied: statsmodels>=0.9.0 in c:\\users\\paul\\anaconda3\\envs\\learn-env\\lib\\site-packages (from category_encoders) (0.12.0)\n",
      "Requirement already satisfied: threadpoolctl>=2.0.0 in c:\\users\\paul\\anaconda3\\envs\\learn-env\\lib\\site-packages (from scikit-learn>=0.20.0->category_encoders) (2.1.0)\n",
      "Requirement already satisfied: joblib>=0.11 in c:\\users\\paul\\anaconda3\\envs\\learn-env\\lib\\site-packages (from scikit-learn>=0.20.0->category_encoders) (0.17.0)\n",
      "Requirement already satisfied: pytz>=2017.2 in c:\\users\\paul\\anaconda3\\envs\\learn-env\\lib\\site-packages (from pandas>=0.21.1->category_encoders) (2020.1)\n",
      "Requirement already satisfied: python-dateutil>=2.7.3 in c:\\users\\paul\\anaconda3\\envs\\learn-env\\lib\\site-packages (from pandas>=0.21.1->category_encoders) (2.8.1)\n",
      "Requirement already satisfied: six in c:\\users\\paul\\anaconda3\\envs\\learn-env\\lib\\site-packages (from patsy>=0.5.1->category_encoders) (1.15.0)\n"
     ]
    }
   ],
   "source": [
    "!pip install category_encoders"
   ]
  },
  {
   "cell_type": "code",
   "execution_count": 2,
   "metadata": {},
   "outputs": [],
   "source": [
    "import numpy as np\n",
    "import pandas as pd\n",
    "\n",
    "from sklearn.pipeline import Pipeline\n",
    "from sklearn.experimental import enable_iterative_imputer\n",
    "from sklearn.impute import SimpleImputer, IterativeImputer\n",
    "from sklearn.compose import ColumnTransformer\n",
    "from sklearn.preprocessing import MinMaxScaler, OneHotEncoder\n",
    "import category_encoders as ce\n",
    "\n",
    "from sklearn.linear_model import LogisticRegression\n",
    "\n",
    "from sklearn.model_selection import train_test_split, GridSearchCV, cross_validate\n",
    "from sklearn.metrics import accuracy_score, recall_score, f1_score, roc_auc_score, plot_confusion_matrix\n",
    "\n",
    "import warnings\n",
    "warnings.filterwarnings(action='ignore')\n",
    "\n",
    "from sklearn.metrics import roc_curve, roc_auc_score\n",
    "\n",
    "import matplotlib.pyplot as plt\n",
    "%matplotlib inline"
   ]
  },
  {
   "cell_type": "markdown",
   "metadata": {},
   "source": [
    "## Data Understanding\n",
    "\n",
    "Describe the data being used for this project.\n",
    "\n",
    "Questions to consider:\n",
    "\n",
    "- Where did the data come from, and how do they relate to the data analysis questions?\n",
    "- What do the data represent? Who is in the sample and what variables are included?\n",
    "- What is the target variable?\n",
    "- What are the properties of the variables you intend to use?"
   ]
  },
  {
   "cell_type": "code",
   "execution_count": 3,
   "metadata": {},
   "outputs": [],
   "source": [
    "features_df = pd.read_csv('Data/training_set_features.csv')\n",
    "lables_df = pd.read_csv('Data/training_set_labels.csv')"
   ]
  },
  {
   "cell_type": "code",
   "execution_count": 4,
   "metadata": {},
   "outputs": [
    {
     "name": "stdout",
     "output_type": "stream",
     "text": [
      "<class 'pandas.core.frame.DataFrame'>\n",
      "RangeIndex: 26707 entries, 0 to 26706\n",
      "Data columns (total 3 columns):\n",
      " #   Column            Non-Null Count  Dtype\n",
      "---  ------            --------------  -----\n",
      " 0   respondent_id     26707 non-null  int64\n",
      " 1   h1n1_vaccine      26707 non-null  int64\n",
      " 2   seasonal_vaccine  26707 non-null  int64\n",
      "dtypes: int64(3)\n",
      "memory usage: 626.1 KB\n"
     ]
    }
   ],
   "source": [
    "lables_df.info()"
   ]
  },
  {
   "cell_type": "code",
   "execution_count": null,
   "metadata": {},
   "outputs": [],
   "source": []
  },
  {
   "cell_type": "code",
   "execution_count": 5,
   "metadata": {},
   "outputs": [],
   "source": [
    "# code here to explore your data"
   ]
  },
  {
   "cell_type": "markdown",
   "metadata": {},
   "source": [
    "## Data Preparation\n",
    "\n",
    "Describe and justify the process for preparing the data for analysis.\n",
    "\n",
    "Questions to consider:\n",
    "\n",
    "- Were there variables you dropped or created?\n",
    "- How did you address missing values or outliers?\n",
    "- Why are these choices appropriate given the data and the business problem?\n",
    "- Can you pipeline your preparation steps to use them consistently in the modeling process?"
   ]
  },
  {
   "cell_type": "code",
   "execution_count": 6,
   "metadata": {},
   "outputs": [
    {
     "name": "stdout",
     "output_type": "stream",
     "text": [
      "<class 'pandas.core.frame.DataFrame'>\n",
      "RangeIndex: 26707 entries, 0 to 26706\n",
      "Data columns (total 36 columns):\n",
      " #   Column                       Non-Null Count  Dtype  \n",
      "---  ------                       --------------  -----  \n",
      " 0   respondent_id                26707 non-null  int64  \n",
      " 1   h1n1_concern                 26615 non-null  float64\n",
      " 2   h1n1_knowledge               26591 non-null  float64\n",
      " 3   behavioral_antiviral_meds    26636 non-null  float64\n",
      " 4   behavioral_avoidance         26499 non-null  float64\n",
      " 5   behavioral_face_mask         26688 non-null  float64\n",
      " 6   behavioral_wash_hands        26665 non-null  float64\n",
      " 7   behavioral_large_gatherings  26620 non-null  float64\n",
      " 8   behavioral_outside_home      26625 non-null  float64\n",
      " 9   behavioral_touch_face        26579 non-null  float64\n",
      " 10  doctor_recc_h1n1             24547 non-null  float64\n",
      " 11  doctor_recc_seasonal         24547 non-null  float64\n",
      " 12  chronic_med_condition        25736 non-null  float64\n",
      " 13  child_under_6_months         25887 non-null  float64\n",
      " 14  health_worker                25903 non-null  float64\n",
      " 15  health_insurance             14433 non-null  float64\n",
      " 16  opinion_h1n1_vacc_effective  26316 non-null  float64\n",
      " 17  opinion_h1n1_risk            26319 non-null  float64\n",
      " 18  opinion_h1n1_sick_from_vacc  26312 non-null  float64\n",
      " 19  opinion_seas_vacc_effective  26245 non-null  float64\n",
      " 20  opinion_seas_risk            26193 non-null  float64\n",
      " 21  opinion_seas_sick_from_vacc  26170 non-null  float64\n",
      " 22  age_group                    26707 non-null  object \n",
      " 23  education                    25300 non-null  object \n",
      " 24  race                         26707 non-null  object \n",
      " 25  sex                          26707 non-null  object \n",
      " 26  income_poverty               22284 non-null  object \n",
      " 27  marital_status               25299 non-null  object \n",
      " 28  rent_or_own                  24665 non-null  object \n",
      " 29  employment_status            25244 non-null  object \n",
      " 30  hhs_geo_region               26707 non-null  object \n",
      " 31  census_msa                   26707 non-null  object \n",
      " 32  household_adults             26458 non-null  float64\n",
      " 33  household_children           26458 non-null  float64\n",
      " 34  employment_industry          13377 non-null  object \n",
      " 35  employment_occupation        13237 non-null  object \n",
      "dtypes: float64(23), int64(1), object(12)\n",
      "memory usage: 7.3+ MB\n"
     ]
    }
   ],
   "source": [
    "features_df.info()"
   ]
  },
  {
   "cell_type": "code",
   "execution_count": 7,
   "metadata": {},
   "outputs": [
    {
     "data": {
      "text/plain": [
       "respondent_id                      0\n",
       "h1n1_concern                      92\n",
       "h1n1_knowledge                   116\n",
       "behavioral_antiviral_meds         71\n",
       "behavioral_avoidance             208\n",
       "behavioral_face_mask              19\n",
       "behavioral_wash_hands             42\n",
       "behavioral_large_gatherings       87\n",
       "behavioral_outside_home           82\n",
       "behavioral_touch_face            128\n",
       "doctor_recc_h1n1                2160\n",
       "doctor_recc_seasonal            2160\n",
       "chronic_med_condition            971\n",
       "child_under_6_months             820\n",
       "health_worker                    804\n",
       "health_insurance               12274\n",
       "opinion_h1n1_vacc_effective      391\n",
       "opinion_h1n1_risk                388\n",
       "opinion_h1n1_sick_from_vacc      395\n",
       "opinion_seas_vacc_effective      462\n",
       "opinion_seas_risk                514\n",
       "opinion_seas_sick_from_vacc      537\n",
       "age_group                          0\n",
       "education                       1407\n",
       "race                               0\n",
       "sex                                0\n",
       "income_poverty                  4423\n",
       "marital_status                  1408\n",
       "rent_or_own                     2042\n",
       "employment_status               1463\n",
       "hhs_geo_region                     0\n",
       "census_msa                         0\n",
       "household_adults                 249\n",
       "household_children               249\n",
       "employment_industry            13330\n",
       "employment_occupation          13470\n",
       "dtype: int64"
      ]
     },
     "execution_count": 7,
     "metadata": {},
     "output_type": "execute_result"
    }
   ],
   "source": [
    "features_df.isna().sum()"
   ]
  },
  {
   "cell_type": "code",
   "execution_count": 8,
   "metadata": {},
   "outputs": [],
   "source": [
    "features_df.drop(columns=['respondent_id'], inplace= True)"
   ]
  },
  {
   "cell_type": "code",
   "execution_count": 9,
   "metadata": {},
   "outputs": [],
   "source": [
    "X = features_df\n",
    "y = lables_df['h1n1_vaccine']"
   ]
  },
  {
   "cell_type": "code",
   "execution_count": 10,
   "metadata": {},
   "outputs": [
    {
     "data": {
      "text/plain": [
       "0        1.0\n",
       "1        1.0\n",
       "2        2.0\n",
       "3        2.0\n",
       "4        2.0\n",
       "        ... \n",
       "26702    2.0\n",
       "26703    1.0\n",
       "26704    2.0\n",
       "26705    0.0\n",
       "26706    1.0\n",
       "Name: health_insurance, Length: 26707, dtype: float64"
      ]
     },
     "execution_count": 10,
     "metadata": {},
     "output_type": "execute_result"
    }
   ],
   "source": [
    "X['health_insurance'].fillna(2)"
   ]
  },
  {
   "cell_type": "code",
   "execution_count": 11,
   "metadata": {},
   "outputs": [],
   "source": [
    "X_use, X_hold, y_use, y_hold = train_test_split(X, y, test_size=0.1, random_state=0)\n",
    "\n",
    "X_train, X_val, y_train, y_val = train_test_split(X, y, test_size=0.2, random_state=0)"
   ]
  },
  {
   "cell_type": "code",
   "execution_count": 12,
   "metadata": {},
   "outputs": [],
   "source": [
    "num_cols = []\n",
    "ohe_cols = []\n",
    "freq_cols = []\n",
    "\n",
    "for c in X.columns:\n",
    "    if X[c].dtype in ['float64', 'int64']:\n",
    "        num_cols.append(c)\n",
    "    elif X[c].nunique() < 10:\n",
    "        ohe_cols.append(c)\n",
    "    else:\n",
    "        freq_cols.append(c)"
   ]
  },
  {
   "cell_type": "code",
   "execution_count": 13,
   "metadata": {},
   "outputs": [
    {
     "data": {
      "text/plain": [
       "['h1n1_concern',\n",
       " 'h1n1_knowledge',\n",
       " 'behavioral_antiviral_meds',\n",
       " 'behavioral_avoidance',\n",
       " 'behavioral_face_mask',\n",
       " 'behavioral_wash_hands',\n",
       " 'behavioral_large_gatherings',\n",
       " 'behavioral_outside_home',\n",
       " 'behavioral_touch_face',\n",
       " 'doctor_recc_h1n1',\n",
       " 'doctor_recc_seasonal',\n",
       " 'chronic_med_condition',\n",
       " 'child_under_6_months',\n",
       " 'health_worker',\n",
       " 'health_insurance',\n",
       " 'opinion_h1n1_vacc_effective',\n",
       " 'opinion_h1n1_risk',\n",
       " 'opinion_h1n1_sick_from_vacc',\n",
       " 'opinion_seas_vacc_effective',\n",
       " 'opinion_seas_risk',\n",
       " 'opinion_seas_sick_from_vacc',\n",
       " 'household_adults',\n",
       " 'household_children']"
      ]
     },
     "execution_count": 13,
     "metadata": {},
     "output_type": "execute_result"
    }
   ],
   "source": [
    "num_cols"
   ]
  },
  {
   "cell_type": "code",
   "execution_count": 14,
   "metadata": {},
   "outputs": [
    {
     "data": {
      "text/plain": [
       "['age_group',\n",
       " 'education',\n",
       " 'race',\n",
       " 'sex',\n",
       " 'income_poverty',\n",
       " 'marital_status',\n",
       " 'rent_or_own',\n",
       " 'employment_status',\n",
       " 'census_msa']"
      ]
     },
     "execution_count": 14,
     "metadata": {},
     "output_type": "execute_result"
    }
   ],
   "source": [
    "ohe_cols"
   ]
  },
  {
   "cell_type": "code",
   "execution_count": 15,
   "metadata": {},
   "outputs": [
    {
     "data": {
      "text/plain": [
       "['hhs_geo_region', 'employment_industry', 'employment_occupation']"
      ]
     },
     "execution_count": 15,
     "metadata": {},
     "output_type": "execute_result"
    }
   ],
   "source": [
    "freq_cols"
   ]
  },
  {
   "cell_type": "code",
   "execution_count": 16,
   "metadata": {
    "scrolled": true
   },
   "outputs": [
    {
     "name": "stdout",
     "output_type": "stream",
     "text": [
      "['h1n1_concern' 'h1n1_knowledge' 'behavioral_antiviral_meds'\n",
      " 'behavioral_avoidance' 'behavioral_face_mask' 'behavioral_wash_hands'\n",
      " 'behavioral_large_gatherings' 'behavioral_outside_home'\n",
      " 'behavioral_touch_face' 'doctor_recc_h1n1' 'doctor_recc_seasonal'\n",
      " 'chronic_med_condition' 'child_under_6_months' 'health_worker'\n",
      " 'health_insurance' 'opinion_h1n1_vacc_effective' 'opinion_h1n1_risk'\n",
      " 'opinion_h1n1_sick_from_vacc' 'opinion_seas_vacc_effective'\n",
      " 'opinion_seas_risk' 'opinion_seas_sick_from_vacc' 'household_adults'\n",
      " 'household_children']\n"
     ]
    }
   ],
   "source": [
    "numeric_cols = features_df.columns[features_df.dtypes != \"object\"].values\n",
    "print(numeric_cols)"
   ]
  },
  {
   "cell_type": "code",
   "execution_count": 17,
   "metadata": {},
   "outputs": [],
   "source": [
    "num_transformer = Pipeline(steps=[\n",
    "    ('minmaxscaler', MinMaxScaler()),\n",
    "    ('num_imputer', IterativeImputer(max_iter = 15))\n",
    "    ])\n",
    "\n",
    "ohe_transformer = Pipeline(steps=[\n",
    "    ('ohe_imputer', SimpleImputer(strategy='constant', fill_value='Unknown')),\n",
    "    ('oh_encoder', OneHotEncoder(handle_unknown='ignore'))\n",
    "])\n",
    "\n",
    "freq_transformer = Pipeline(steps=[\n",
    "    ('freq_encoder', ce.count.CountEncoder(normalize=True, min_group_size=.05)),\n",
    "    ('freq_imputer', SimpleImputer(strategy='constant', fill_value=0))\n",
    "])"
   ]
  },
  {
   "cell_type": "code",
   "execution_count": 18,
   "metadata": {},
   "outputs": [],
   "source": [
    "preprocessor = ColumnTransformer(\n",
    "    transformers=[\n",
    "        ('num', num_transformer, num_cols),\n",
    "        ('ohe', ohe_transformer, ohe_cols),\n",
    "        ('freq', freq_transformer, freq_cols)\n",
    "    ])"
   ]
  },
  {
   "cell_type": "code",
   "execution_count": 19,
   "metadata": {},
   "outputs": [
    {
     "data": {
      "text/plain": [
       "ColumnTransformer(transformers=[('num',\n",
       "                                 Pipeline(steps=[('minmaxscaler',\n",
       "                                                  MinMaxScaler()),\n",
       "                                                 ('num_imputer',\n",
       "                                                  IterativeImputer(max_iter=15))]),\n",
       "                                 ['h1n1_concern', 'h1n1_knowledge',\n",
       "                                  'behavioral_antiviral_meds',\n",
       "                                  'behavioral_avoidance',\n",
       "                                  'behavioral_face_mask',\n",
       "                                  'behavioral_wash_hands',\n",
       "                                  'behavioral_large_gatherings',\n",
       "                                  'behavioral_outside_home',\n",
       "                                  'behavioral_touch_face', 'doc...\n",
       "                                 ['age_group', 'education', 'race', 'sex',\n",
       "                                  'income_poverty', 'marital_status',\n",
       "                                  'rent_or_own', 'employment_status',\n",
       "                                  'census_msa']),\n",
       "                                ('freq',\n",
       "                                 Pipeline(steps=[('freq_encoder',\n",
       "                                                  CountEncoder(combine_min_nan_groups=True,\n",
       "                                                               min_group_size=0.05,\n",
       "                                                               normalize=True)),\n",
       "                                                 ('freq_imputer',\n",
       "                                                  SimpleImputer(fill_value=0,\n",
       "                                                                strategy='constant'))]),\n",
       "                                 ['hhs_geo_region', 'employment_industry',\n",
       "                                  'employment_occupation'])])"
      ]
     },
     "execution_count": 19,
     "metadata": {},
     "output_type": "execute_result"
    }
   ],
   "source": [
    "preprocessor.fit(X_train)"
   ]
  },
  {
   "cell_type": "code",
   "execution_count": null,
   "metadata": {},
   "outputs": [],
   "source": []
  },
  {
   "cell_type": "markdown",
   "metadata": {},
   "source": [
    "## Modeling\n",
    "\n",
    "Describe and justify the process for analyzing or modeling the data.\n",
    "\n",
    "Questions to consider:\n",
    "\n",
    "- How will you analyze the data to arrive at an initial approach?\n",
    "- How will you iterate on your initial approach to make it better?\n",
    "- What model type is most appropriate, given the data and the business problem?"
   ]
  },
  {
   "cell_type": "markdown",
   "metadata": {},
   "source": [
    "## 1. Logistic Regression"
   ]
  },
  {
   "cell_type": "markdown",
   "metadata": {},
   "source": [
    "### 1.1 Baseline Model"
   ]
  },
  {
   "cell_type": "code",
   "execution_count": 20,
   "metadata": {},
   "outputs": [],
   "source": [
    "lr_clf = Pipeline(steps=[\n",
    "    ('preprocessor', preprocessor),\n",
    "    ('classifier', LogisticRegression())\n",
    "])"
   ]
  },
  {
   "cell_type": "code",
   "execution_count": 21,
   "metadata": {
    "scrolled": false
   },
   "outputs": [
    {
     "data": {
      "text/plain": [
       "{'fit_time': array([5.27733779, 4.9114697 , 4.42653489, 4.50109553, 4.08623314]),\n",
       " 'score_time': array([0.09708738, 0.09508634, 0.09608698, 0.09409356, 0.09008884]),\n",
       " 'test_score': array([0.83781886, 0.83922303, 0.83758484, 0.83407442, 0.83079803]),\n",
       " 'train_score': array([0.83582963, 0.83612216, 0.83618067, 0.83770185, 0.83840393])}"
      ]
     },
     "execution_count": 21,
     "metadata": {},
     "output_type": "execute_result"
    }
   ],
   "source": [
    "cross_validate(lr_clf, X_train, y_train, return_train_score=True)"
   ]
  },
  {
   "cell_type": "code",
   "execution_count": 22,
   "metadata": {
    "scrolled": true
   },
   "outputs": [
    {
     "data": {
      "text/plain": [
       "Pipeline(steps=[('preprocessor',\n",
       "                 ColumnTransformer(transformers=[('num',\n",
       "                                                  Pipeline(steps=[('minmaxscaler',\n",
       "                                                                   MinMaxScaler()),\n",
       "                                                                  ('num_imputer',\n",
       "                                                                   IterativeImputer(max_iter=15))]),\n",
       "                                                  ['h1n1_concern',\n",
       "                                                   'h1n1_knowledge',\n",
       "                                                   'behavioral_antiviral_meds',\n",
       "                                                   'behavioral_avoidance',\n",
       "                                                   'behavioral_face_mask',\n",
       "                                                   'behavioral_wash_hands',\n",
       "                                                   'behavioral_large_gatherings',\n",
       "                                                   'behavioral_outside_ho...\n",
       "                                                   'marital_status',\n",
       "                                                   'rent_or_own',\n",
       "                                                   'employment_status',\n",
       "                                                   'census_msa']),\n",
       "                                                 ('freq',\n",
       "                                                  Pipeline(steps=[('freq_encoder',\n",
       "                                                                   CountEncoder(combine_min_nan_groups=True,\n",
       "                                                                                min_group_size=0.05,\n",
       "                                                                                normalize=True)),\n",
       "                                                                  ('freq_imputer',\n",
       "                                                                   SimpleImputer(fill_value=0,\n",
       "                                                                                 strategy='constant'))]),\n",
       "                                                  ['hhs_geo_region',\n",
       "                                                   'employment_industry',\n",
       "                                                   'employment_occupation'])])),\n",
       "                ('classifier', LogisticRegression())])"
      ]
     },
     "execution_count": 22,
     "metadata": {},
     "output_type": "execute_result"
    }
   ],
   "source": [
    "lr_clf.fit(X_train, y_train)"
   ]
  },
  {
   "cell_type": "code",
   "execution_count": 23,
   "metadata": {},
   "outputs": [],
   "source": [
    "lr_preds = lr_clf.predict(X_val)"
   ]
  },
  {
   "cell_type": "code",
   "execution_count": 24,
   "metadata": {
    "scrolled": false
   },
   "outputs": [
    {
     "name": "stdout",
     "output_type": "stream",
     "text": [
      "accuracy: 0.823\n",
      "recall 0.403\n",
      "f1: 0.498\n",
      "roc_auc: 0.671\n"
     ]
    }
   ],
   "source": [
    "print('accuracy: {:0.3f}'.format(accuracy_score(y_val, lr_preds)))\n",
    "print('recall {:0.3f}'.format(recall_score(y_val, lr_preds)))\n",
    "print('f1: {:0.3f}'.format(f1_score(y_val, lr_preds)))\n",
    "print('roc_auc: {:0.3f}'.format(roc_auc_score(y_val , lr_preds)))"
   ]
  },
  {
   "cell_type": "code",
   "execution_count": 25,
   "metadata": {},
   "outputs": [
    {
     "data": {
      "text/plain": [
       "<sklearn.metrics._plot.confusion_matrix.ConfusionMatrixDisplay at 0x21e0a079ac0>"
      ]
     },
     "execution_count": 25,
     "metadata": {},
     "output_type": "execute_result"
    },
    {
     "data": {
      "image/png": "[encoded data removed]",
      "text/plain": [
       "<Figure size 432x288 with 2 Axes>"
      ]
     },
     "metadata": {
      "needs_background": "light"
     },
     "output_type": "display_data"
    }
   ],
   "source": [
    "plot_confusion_matrix(lr_clf, X_val, y_val)"
   ]
  },
  {
   "cell_type": "markdown",
   "metadata": {},
   "source": [
    "### 1.2 Iteration"
   ]
  },
  {
   "cell_type": "code",
   "execution_count": 26,
   "metadata": {},
   "outputs": [],
   "source": [
    "params={'classifier__penalty':['l2', 'l1','elasticnet'],\n",
    "        'classifier__C':[ 0.1, 1, 10, 100, 101, 102,103,104,105],\n",
    "        'classifier__class_weight':['balanced', None]\n",
    "       }"
   ]
  },
  {
   "cell_type": "code",
   "execution_count": 53,
   "metadata": {},
   "outputs": [],
   "source": [
    "grid_clf = GridSearchCV(lr_clf, param_grid=params, scoring='f1')\n",
    "output = grid_clf.fit(X_train, y_train)"
   ]
  },
  {
   "cell_type": "code",
   "execution_count": 54,
   "metadata": {},
   "outputs": [
    {
     "name": "stdout",
     "output_type": "stream",
     "text": [
      "Best Param:{'classifier__C': 0.1, 'classifier__class_weight': 'balanced', 'classifier__penalty': 'l2'}, Best f1:0.581\n"
     ]
    }
   ],
   "source": [
    "print('Best Param:{0}, Best f1:{1:.3f}'.format(grid_clf.best_params_, \n",
    "                                                  grid_clf.best_score_))"
   ]
  },
  {
   "cell_type": "markdown",
   "metadata": {},
   "source": [
    "### 1.3 Model 2.0"
   ]
  },
  {
   "cell_type": "code",
   "execution_count": 55,
   "metadata": {},
   "outputs": [
    {
     "data": {
      "text/plain": [
       "Pipeline(steps=[('preprocessor',\n",
       "                 ColumnTransformer(transformers=[('num',\n",
       "                                                  Pipeline(steps=[('minmaxscaler',\n",
       "                                                                   MinMaxScaler()),\n",
       "                                                                  ('num_imputer',\n",
       "                                                                   IterativeImputer(max_iter=15))]),\n",
       "                                                  ['h1n1_concern',\n",
       "                                                   'h1n1_knowledge',\n",
       "                                                   'behavioral_antiviral_meds',\n",
       "                                                   'behavioral_avoidance',\n",
       "                                                   'behavioral_face_mask',\n",
       "                                                   'behavioral_wash_hands',\n",
       "                                                   'behavioral_large_gatherings',\n",
       "                                                   'behavioral_outside_ho...\n",
       "                                                   'employment_status',\n",
       "                                                   'census_msa']),\n",
       "                                                 ('freq',\n",
       "                                                  Pipeline(steps=[('freq_encoder',\n",
       "                                                                   CountEncoder(combine_min_nan_groups=True,\n",
       "                                                                                min_group_size=0.05,\n",
       "                                                                                normalize=True)),\n",
       "                                                                  ('freq_imputer',\n",
       "                                                                   SimpleImputer(fill_value=0,\n",
       "                                                                                 strategy='constant'))]),\n",
       "                                                  ['hhs_geo_region',\n",
       "                                                   'employment_industry',\n",
       "                                                   'employment_occupation'])])),\n",
       "                ('classifier',\n",
       "                 LogisticRegression(C=0.1, class_weight='balanced'))])"
      ]
     },
     "execution_count": 55,
     "metadata": {},
     "output_type": "execute_result"
    }
   ],
   "source": [
    "output.best_estimator_.fit(X_train, y_train)"
   ]
  },
  {
   "cell_type": "code",
   "execution_count": 56,
   "metadata": {},
   "outputs": [],
   "source": [
    "val_preds = output.best_estimator_.predict(X_val)"
   ]
  },
  {
   "cell_type": "code",
   "execution_count": 57,
   "metadata": {},
   "outputs": [
    {
     "data": {
      "text/plain": [
       "{'fit_time': array([4.12075019, 4.07371306, 4.07971311, 4.09673524, 3.81046033]),\n",
       " 'score_time': array([0.09308457, 0.09408522, 0.09309196, 0.09408498, 0.08807945]),\n",
       " 'test_score': array([0.77556752, 0.7856307 , 0.78633279, 0.77112099, 0.76316405]),\n",
       " 'train_score': array([0.7788439 , 0.77784929, 0.77515797, 0.77937047, 0.78206178])}"
      ]
     },
     "execution_count": 57,
     "metadata": {},
     "output_type": "execute_result"
    }
   ],
   "source": [
    "cross_validate(output.best_estimator_, X_train, y_train, return_train_score=True)"
   ]
  },
  {
   "cell_type": "code",
   "execution_count": 58,
   "metadata": {
    "scrolled": true
   },
   "outputs": [
    {
     "name": "stdout",
     "output_type": "stream",
     "text": [
      "accuracy: 0.773\n",
      "recall: 0.712\n",
      "f1: 0.579\n",
      "roc_auc: 0.751\n"
     ]
    }
   ],
   "source": [
    "print('accuracy: {:0.3f}'.format(accuracy_score(y_val, val_preds)))\n",
    "print('recall: {:0.3f}'.format(recall_score(y_val, val_preds)))\n",
    "print('f1: {:0.3f}'.format(f1_score(y_val, val_preds)))\n",
    "print('roc_auc: {:0.3f}'.format(roc_auc_score(y_val , val_preds)))"
   ]
  },
  {
   "cell_type": "code",
   "execution_count": 59,
   "metadata": {
    "scrolled": true
   },
   "outputs": [
    {
     "data": {
      "text/plain": [
       "<sklearn.metrics._plot.confusion_matrix.ConfusionMatrixDisplay at 0x21e0c2f5220>"
      ]
     },
     "execution_count": 59,
     "metadata": {},
     "output_type": "execute_result"
    },
    {
     "data": {
      "image/png": "[encoded data removed]",
      "text/plain": [
       "<Figure size 432x288 with 2 Axes>"
      ]
     },
     "metadata": {
      "needs_background": "light"
     },
     "output_type": "display_data"
    }
   ],
   "source": [
    "plot_confusion_matrix(output.best_estimator_, X_val, y_val)"
   ]
  },
  {
   "cell_type": "markdown",
   "metadata": {},
   "source": [
    "### 1.4 ROC Curve"
   ]
  },
  {
   "cell_type": "code",
   "execution_count": 60,
   "metadata": {},
   "outputs": [],
   "source": [
    "def plot_roc(y_true, y_score, label_name, ax):\n",
    "    fpr, tpr, thresholds = roc_curve(y_true, y_score)\n",
    "    ax.plot(fpr, tpr)\n",
    "    ax.plot([0, 1], [0, 1], color='grey', linestyle='--')\n",
    "    ax.set_ylabel('TPR')\n",
    "    ax.set_xlabel('FPR')\n",
    "    ax.set_title(\n",
    "        f\"{label_name}: AUC = {roc_auc_score(y_true, y_score):.4f}\"\n",
    "    )"
   ]
  },
  {
   "cell_type": "code",
   "execution_count": 61,
   "metadata": {
    "scrolled": true
   },
   "outputs": [
    {
     "data": {
      "image/png": "[encoded data removed]",
      "text/plain": [
       "<Figure size 432x288 with 1 Axes>"
      ]
     },
     "metadata": {
      "needs_background": "light"
     },
     "output_type": "display_data"
    }
   ],
   "source": [
    "fig, ax = plt.subplots()\n",
    "plot_roc(\n",
    "    y_val, \n",
    "    val_preds, \n",
    "    'h1n1_vaccine',\n",
    "    ax = ax\n",
    ")"
   ]
  },
  {
   "cell_type": "code",
   "execution_count": 62,
   "metadata": {},
   "outputs": [
    {
     "data": {
      "text/plain": [
       "array([[0.66666667, 0.5       , 0.        , ..., 0.157641  , 0.34172712,\n",
       "        0.37280599],\n",
       "       [0.33333333, 0.5       , 0.        , ..., 0.10648256, 0.09314299,\n",
       "        0.37280599],\n",
       "       [0.66666667, 0.5       , 0.        , ..., 0.157641  , 0.49815118,\n",
       "        0.50376784],\n",
       "       ...,\n",
       "       [0.66666667, 0.5       , 0.        , ..., 0.10648256, 0.49815118,\n",
       "        0.50376784],\n",
       "       [0.66666667, 1.        , 0.        , ..., 0.11729464, 0.49815118,\n",
       "        0.50376784],\n",
       "       [1.        , 1.        , 0.        , ..., 0.07666745, 0.09314299,\n",
       "        0.37280599]])"
      ]
     },
     "execution_count": 62,
     "metadata": {},
     "output_type": "execute_result"
    }
   ],
   "source": [
    "X_pre = preprocessor.fit_transform(X_train)\n",
    "X_pre"
   ]
  },
  {
   "cell_type": "code",
   "execution_count": 63,
   "metadata": {},
   "outputs": [
    {
     "name": "stdout",
     "output_type": "stream",
     "text": [
      "Feature: 0, Score: -0.19530\n",
      "Feature: 1, Score: 0.19613\n",
      "Feature: 2, Score: 0.31741\n",
      "Feature: 3, Score: -0.01724\n",
      "Feature: 4, Score: 0.26923\n",
      "Feature: 5, Score: 0.03234\n",
      "Feature: 6, Score: -0.23324\n",
      "Feature: 7, Score: -0.00309\n",
      "Feature: 8, Score: 0.04174\n",
      "Feature: 9, Score: 2.05602\n",
      "Feature: 10, Score: -0.62044\n",
      "Feature: 11, Score: 0.12959\n",
      "Feature: 12, Score: 0.20990\n",
      "Feature: 13, Score: 0.73809\n",
      "Feature: 14, Score: 0.87680\n",
      "Feature: 15, Score: 2.24644\n",
      "Feature: 16, Score: 1.38657\n",
      "Feature: 17, Score: -0.01881\n",
      "Feature: 18, Score: 0.28843\n",
      "Feature: 19, Score: 0.67436\n",
      "Feature: 20, Score: -0.33201\n",
      "Feature: 21, Score: 0.03666\n",
      "Feature: 22, Score: -0.15501\n",
      "Feature: 23, Score: -0.06727\n",
      "Feature: 24, Score: -0.14663\n",
      "Feature: 25, Score: -0.16160\n",
      "Feature: 26, Score: 0.13334\n",
      "Feature: 27, Score: 0.24503\n",
      "Feature: 28, Score: 0.01254\n",
      "Feature: 29, Score: -0.18490\n",
      "Feature: 30, Score: 0.12560\n",
      "Feature: 31, Score: 0.00375\n",
      "Feature: 32, Score: 0.04588\n",
      "Feature: 33, Score: -0.20125\n",
      "Feature: 34, Score: 0.10180\n",
      "Feature: 35, Score: 0.10832\n",
      "Feature: 36, Score: -0.00600\n",
      "Feature: 37, Score: -0.11674\n",
      "Feature: 38, Score: 0.11961\n",
      "Feature: 39, Score: -0.10544\n",
      "Feature: 40, Score: 0.00367\n",
      "Feature: 41, Score: 0.00480\n",
      "Feature: 42, Score: 0.09984\n",
      "Feature: 43, Score: 0.10978\n",
      "Feature: 44, Score: -0.00393\n",
      "Feature: 45, Score: -0.10297\n",
      "Feature: 46, Score: -0.08232\n",
      "Feature: 47, Score: -0.10276\n",
      "Feature: 48, Score: 0.18795\n",
      "Feature: 49, Score: -0.15937\n",
      "Feature: 50, Score: 0.05015\n",
      "Feature: 51, Score: 0.10243\n",
      "Feature: 52, Score: 0.00967\n",
      "Feature: 53, Score: -0.09305\n",
      "Feature: 54, Score: 0.03302\n",
      "Feature: 55, Score: 0.06290\n",
      "Feature: 56, Score: -0.28792\n",
      "Feature: 57, Score: -0.74014\n",
      "Feature: 58, Score: 0.13173\n"
     ]
    }
   ],
   "source": [
    "importance = output.best_estimator_['classifier'].coef_[0]\n",
    "#for feat, importance in zip(X_pre, output.best_estimator_['classifier'].coef_[0]):\n",
    "#    print('feature: {f}, importance: {i}'.format(f=feat, i=importance))\n",
    "for i,v in enumerate(importance):\n",
    "    print('Feature: %0d, Score: %.5f' % (i,v))"
   ]
  },
  {
   "cell_type": "code",
   "execution_count": 64,
   "metadata": {},
   "outputs": [
    {
     "name": "stdout",
     "output_type": "stream",
     "text": [
      "<class 'pandas.core.frame.DataFrame'>\n",
      "Int64Index: 21365 entries, 18127 to 2732\n",
      "Data columns (total 35 columns):\n",
      " #   Column                       Non-Null Count  Dtype  \n",
      "---  ------                       --------------  -----  \n",
      " 0   h1n1_concern                 21288 non-null  float64\n",
      " 1   h1n1_knowledge               21270 non-null  float64\n",
      " 2   behavioral_antiviral_meds    21312 non-null  float64\n",
      " 3   behavioral_avoidance         21204 non-null  float64\n",
      " 4   behavioral_face_mask         21348 non-null  float64\n",
      " 5   behavioral_wash_hands        21337 non-null  float64\n",
      " 6   behavioral_large_gatherings  21296 non-null  float64\n",
      " 7   behavioral_outside_home      21300 non-null  float64\n",
      " 8   behavioral_touch_face        21260 non-null  float64\n",
      " 9   doctor_recc_h1n1             19644 non-null  float64\n",
      " 10  doctor_recc_seasonal         19644 non-null  float64\n",
      " 11  chronic_med_condition        20576 non-null  float64\n",
      " 12  child_under_6_months         20696 non-null  float64\n",
      " 13  health_worker                20708 non-null  float64\n",
      " 14  health_insurance             11518 non-null  float64\n",
      " 15  opinion_h1n1_vacc_effective  21052 non-null  float64\n",
      " 16  opinion_h1n1_risk            21048 non-null  float64\n",
      " 17  opinion_h1n1_sick_from_vacc  21040 non-null  float64\n",
      " 18  opinion_seas_vacc_effective  20988 non-null  float64\n",
      " 19  opinion_seas_risk            20948 non-null  float64\n",
      " 20  opinion_seas_sick_from_vacc  20936 non-null  float64\n",
      " 21  age_group                    21365 non-null  object \n",
      " 22  education                    20225 non-null  object \n",
      " 23  race                         21365 non-null  object \n",
      " 24  sex                          21365 non-null  object \n",
      " 25  income_poverty               17819 non-null  object \n",
      " 26  marital_status               20230 non-null  object \n",
      " 27  rent_or_own                  19706 non-null  object \n",
      " 28  employment_status            20187 non-null  object \n",
      " 29  hhs_geo_region               21365 non-null  object \n",
      " 30  census_msa                   21365 non-null  object \n",
      " 31  household_adults             21158 non-null  float64\n",
      " 32  household_children           21158 non-null  float64\n",
      " 33  employment_industry          10722 non-null  object \n",
      " 34  employment_occupation        10602 non-null  object \n",
      "dtypes: float64(23), object(12)\n",
      "memory usage: 5.9+ MB\n"
     ]
    }
   ],
   "source": [
    "X_train.info()"
   ]
  },
  {
   "cell_type": "markdown",
   "metadata": {},
   "source": [
    "From feature importance, we realized feature 9, 14, 15 has high impact coefficient. Based on our encoded dataset:\n",
    "- 9 => doctor_recc_h1n1\n",
    "- 14 => opinion_h1n1_vacc_effective\n",
    "- 15 => opinion_h1n1_risk"
   ]
  },
  {
   "cell_type": "markdown",
   "metadata": {},
   "source": [
    "## 2. Naive Bayesian"
   ]
  },
  {
   "cell_type": "markdown",
   "metadata": {},
   "source": [
    "### 2.1 Baseline Model"
   ]
  },
  {
   "cell_type": "code",
   "execution_count": 65,
   "metadata": {},
   "outputs": [],
   "source": [
    "from sklearn.naive_bayes import GaussianNB"
   ]
  },
  {
   "cell_type": "code",
   "execution_count": 66,
   "metadata": {},
   "outputs": [],
   "source": [
    "nb_clf = Pipeline(steps=[\n",
    "    ('preprocessor', preprocessor),\n",
    "    ('classifier', GaussianNB())\n",
    "])"
   ]
  },
  {
   "cell_type": "code",
   "execution_count": 67,
   "metadata": {},
   "outputs": [
    {
     "data": {
      "text/plain": [
       "{'fit_time': array([4.36447573, 4.54512787, 4.18051982, 4.19180679, 3.73539996]),\n",
       " 'score_time': array([0.10510349, 0.10609794, 0.10009074, 0.10109186, 0.09808826]),\n",
       " 'test_score': array([0.76199392, 0.75520711, 0.76222794, 0.7516967 , 0.75567517]),\n",
       " 'train_score': array([0.76029722, 0.75702083, 0.75579218, 0.75912708, 0.75889305])}"
      ]
     },
     "execution_count": 67,
     "metadata": {},
     "output_type": "execute_result"
    }
   ],
   "source": [
    "cross_validate(nb_clf, X_train, y_train, return_train_score=True)"
   ]
  },
  {
   "cell_type": "code",
   "execution_count": 68,
   "metadata": {
    "scrolled": true
   },
   "outputs": [
    {
     "data": {
      "text/plain": [
       "Pipeline(steps=[('preprocessor',\n",
       "                 ColumnTransformer(transformers=[('num',\n",
       "                                                  Pipeline(steps=[('minmaxscaler',\n",
       "                                                                   MinMaxScaler()),\n",
       "                                                                  ('num_imputer',\n",
       "                                                                   IterativeImputer(max_iter=15))]),\n",
       "                                                  ['h1n1_concern',\n",
       "                                                   'h1n1_knowledge',\n",
       "                                                   'behavioral_antiviral_meds',\n",
       "                                                   'behavioral_avoidance',\n",
       "                                                   'behavioral_face_mask',\n",
       "                                                   'behavioral_wash_hands',\n",
       "                                                   'behavioral_large_gatherings',\n",
       "                                                   'behavioral_outside_ho...\n",
       "                                                   'income_poverty',\n",
       "                                                   'marital_status',\n",
       "                                                   'rent_or_own',\n",
       "                                                   'employment_status',\n",
       "                                                   'census_msa']),\n",
       "                                                 ('freq',\n",
       "                                                  Pipeline(steps=[('freq_encoder',\n",
       "                                                                   CountEncoder(combine_min_nan_groups=True,\n",
       "                                                                                min_group_size=0.05,\n",
       "                                                                                normalize=True)),\n",
       "                                                                  ('freq_imputer',\n",
       "                                                                   SimpleImputer(fill_value=0,\n",
       "                                                                                 strategy='constant'))]),\n",
       "                                                  ['hhs_geo_region',\n",
       "                                                   'employment_industry',\n",
       "                                                   'employment_occupation'])])),\n",
       "                ('classifier', GaussianNB())])"
      ]
     },
     "execution_count": 68,
     "metadata": {},
     "output_type": "execute_result"
    }
   ],
   "source": [
    "nb_clf.fit(X_train, y_train)"
   ]
  },
  {
   "cell_type": "code",
   "execution_count": 69,
   "metadata": {},
   "outputs": [],
   "source": [
    "nb_preds = nb_clf.predict(X_val)"
   ]
  },
  {
   "cell_type": "code",
   "execution_count": 70,
   "metadata": {
    "scrolled": false
   },
   "outputs": [
    {
     "name": "stdout",
     "output_type": "stream",
     "text": [
      "accuracy: 0.756\n",
      "recall: 0.623\n",
      "f1: 0.528\n",
      "roc_auc: 0.708\n"
     ]
    }
   ],
   "source": [
    "print('accuracy: {:0.3f}'.format(accuracy_score(y_val, nb_preds)))\n",
    "print('recall: {:0.3f}'.format(recall_score(y_val, nb_preds)))\n",
    "print('f1: {:0.3f}'.format(f1_score(y_val, nb_preds)))\n",
    "print('roc_auc: {:0.3f}'.format(roc_auc_score(y_val , nb_preds)))"
   ]
  },
  {
   "cell_type": "code",
   "execution_count": 71,
   "metadata": {},
   "outputs": [
    {
     "data": {
      "text/plain": [
       "<sklearn.metrics._plot.confusion_matrix.ConfusionMatrixDisplay at 0x21e09b4e730>"
      ]
     },
     "execution_count": 71,
     "metadata": {},
     "output_type": "execute_result"
    },
    {
     "data": {
      "image/png": "[encoded data removed]",
      "text/plain": [
       "<Figure size 432x288 with 2 Axes>"
      ]
     },
     "metadata": {
      "needs_background": "light"
     },
     "output_type": "display_data"
    }
   ],
   "source": [
    "plot_confusion_matrix(nb_clf, X_val, y_val)"
   ]
  },
  {
   "cell_type": "markdown",
   "metadata": {},
   "source": [
    "### 2.2 Tuning"
   ]
  },
  {
   "cell_type": "code",
   "execution_count": 72,
   "metadata": {},
   "outputs": [],
   "source": [
    "params={'classifier__var_smoothing':np.logspace(0,-9, num=100),\n",
    "       }"
   ]
  },
  {
   "cell_type": "code",
   "execution_count": 73,
   "metadata": {},
   "outputs": [],
   "source": [
    "grid_nb = GridSearchCV(nb_clf, param_grid=params, scoring='f1')\n",
    "output_nb = grid_nb.fit(X_train, y_train)"
   ]
  },
  {
   "cell_type": "code",
   "execution_count": 74,
   "metadata": {},
   "outputs": [
    {
     "name": "stdout",
     "output_type": "stream",
     "text": [
      "Best Param:{'classifier__var_smoothing': 0.1873817422860384}, Best f1:0.539\n"
     ]
    }
   ],
   "source": [
    "print('Best Param:{0}, Best f1:{1:.3f}'.format(output_nb.best_params_, \n",
    "                                                  output_nb.best_score_))"
   ]
  },
  {
   "cell_type": "markdown",
   "metadata": {},
   "source": [
    "### 2.2 Model 2.0"
   ]
  },
  {
   "cell_type": "code",
   "execution_count": 75,
   "metadata": {},
   "outputs": [
    {
     "data": {
      "text/plain": [
       "Pipeline(steps=[('preprocessor',\n",
       "                 ColumnTransformer(transformers=[('num',\n",
       "                                                  Pipeline(steps=[('minmaxscaler',\n",
       "                                                                   MinMaxScaler()),\n",
       "                                                                  ('num_imputer',\n",
       "                                                                   IterativeImputer(max_iter=15))]),\n",
       "                                                  ['h1n1_concern',\n",
       "                                                   'h1n1_knowledge',\n",
       "                                                   'behavioral_antiviral_meds',\n",
       "                                                   'behavioral_avoidance',\n",
       "                                                   'behavioral_face_mask',\n",
       "                                                   'behavioral_wash_hands',\n",
       "                                                   'behavioral_large_gatherings',\n",
       "                                                   'behavioral_outside_ho...\n",
       "                                                   'employment_status',\n",
       "                                                   'census_msa']),\n",
       "                                                 ('freq',\n",
       "                                                  Pipeline(steps=[('freq_encoder',\n",
       "                                                                   CountEncoder(combine_min_nan_groups=True,\n",
       "                                                                                min_group_size=0.05,\n",
       "                                                                                normalize=True)),\n",
       "                                                                  ('freq_imputer',\n",
       "                                                                   SimpleImputer(fill_value=0,\n",
       "                                                                                 strategy='constant'))]),\n",
       "                                                  ['hhs_geo_region',\n",
       "                                                   'employment_industry',\n",
       "                                                   'employment_occupation'])])),\n",
       "                ('classifier', GaussianNB(var_smoothing=0.1873817422860384))])"
      ]
     },
     "execution_count": 75,
     "metadata": {},
     "output_type": "execute_result"
    }
   ],
   "source": [
    "output_nb.best_estimator_.fit(X_train, y_train)"
   ]
  },
  {
   "cell_type": "code",
   "execution_count": 76,
   "metadata": {},
   "outputs": [],
   "source": [
    "nb_preds2 = output_nb.best_estimator_.predict(X_val)"
   ]
  },
  {
   "cell_type": "code",
   "execution_count": 77,
   "metadata": {},
   "outputs": [
    {
     "name": "stdout",
     "output_type": "stream",
     "text": [
      "accuracy: 0.785\n",
      "recall: 0.570\n",
      "f1: 0.538\n",
      "roc_auc: 0.708\n"
     ]
    }
   ],
   "source": [
    "print('accuracy: {:0.3f}'.format(accuracy_score(y_val, nb_preds2)))\n",
    "print('recall: {:0.3f}'.format(recall_score(y_val, nb_preds2)))\n",
    "print('f1: {:0.3f}'.format(f1_score(y_val, nb_preds2)))\n",
    "print('roc_auc: {:0.3f}'.format(roc_auc_score(y_val , nb_preds2)))"
   ]
  },
  {
   "cell_type": "code",
   "execution_count": 78,
   "metadata": {},
   "outputs": [
    {
     "data": {
      "text/plain": [
       "{'fit_time': array([3.93057656, 4.87893677, 4.20482588, 4.248878  , 4.29090524]),\n",
       " 'score_time': array([0.09909844, 0.11210179, 0.10410285, 0.13512325, 0.0990901 ]),\n",
       " 'test_score': array([0.79194945, 0.79475778, 0.79569389, 0.78586473, 0.78539668]),\n",
       " 'train_score': array([0.792359  , 0.78937515, 0.78972619, 0.7915399 , 0.79159841])}"
      ]
     },
     "execution_count": 78,
     "metadata": {},
     "output_type": "execute_result"
    }
   ],
   "source": [
    "cross_validate(output_nb.best_estimator_, X_train, y_train, return_train_score=True)"
   ]
  },
  {
   "cell_type": "code",
   "execution_count": 79,
   "metadata": {
    "scrolled": true
   },
   "outputs": [
    {
     "data": {
      "text/plain": [
       "<sklearn.metrics._plot.confusion_matrix.ConfusionMatrixDisplay at 0x21e0c2b1880>"
      ]
     },
     "execution_count": 79,
     "metadata": {},
     "output_type": "execute_result"
    },
    {
     "data": {
      "image/png": "[encoded data removed]",
      "text/plain": [
       "<Figure size 432x288 with 2 Axes>"
      ]
     },
     "metadata": {
      "needs_background": "light"
     },
     "output_type": "display_data"
    }
   ],
   "source": [
    "plot_confusion_matrix(output_nb.best_estimator_, X_val, y_val)"
   ]
  },
  {
   "cell_type": "markdown",
   "metadata": {},
   "source": [
    "### 2.4 ROC Curve"
   ]
  },
  {
   "cell_type": "code",
   "execution_count": 80,
   "metadata": {
    "scrolled": false
   },
   "outputs": [
    {
     "data": {
      "image/png": "[encoded data removed]",
      "text/plain": [
       "<Figure size 432x288 with 1 Axes>"
      ]
     },
     "metadata": {
      "needs_background": "light"
     },
     "output_type": "display_data"
    }
   ],
   "source": [
    "fig, ax = plt.subplots()\n",
    "plot_roc(\n",
    "    y_val, \n",
    "    nb_preds2, \n",
    "    'h1n1_vaccine',\n",
    "    ax = ax\n",
    ")"
   ]
  },
  {
   "cell_type": "markdown",
   "metadata": {},
   "source": [
    "## 3. KNN"
   ]
  },
  {
   "cell_type": "markdown",
   "metadata": {},
   "source": [
    "## 3.1 Baseline Model"
   ]
  },
  {
   "cell_type": "code",
   "execution_count": 36,
   "metadata": {},
   "outputs": [],
   "source": [
    "from sklearn.neighbors import KNeighborsClassifier"
   ]
  },
  {
   "cell_type": "code",
   "execution_count": 37,
   "metadata": {},
   "outputs": [],
   "source": [
    "knn_clf = Pipeline(steps=[\n",
    "    ('preprocessor', preprocessor),\n",
    "    ('classifier', KNeighborsClassifier())\n",
    "])"
   ]
  },
  {
   "cell_type": "code",
   "execution_count": 38,
   "metadata": {},
   "outputs": [
    {
     "data": {
      "text/plain": [
       "Pipeline(steps=[('preprocessor',\n",
       "                 ColumnTransformer(transformers=[('num',\n",
       "                                                  Pipeline(steps=[('minmaxscaler',\n",
       "                                                                   MinMaxScaler()),\n",
       "                                                                  ('num_imputer',\n",
       "                                                                   IterativeImputer(max_iter=15))]),\n",
       "                                                  ['h1n1_concern',\n",
       "                                                   'h1n1_knowledge',\n",
       "                                                   'behavioral_antiviral_meds',\n",
       "                                                   'behavioral_avoidance',\n",
       "                                                   'behavioral_face_mask',\n",
       "                                                   'behavioral_wash_hands',\n",
       "                                                   'behavioral_large_gatherings',\n",
       "                                                   'behavioral_outside_ho...\n",
       "                                                   'marital_status',\n",
       "                                                   'rent_or_own',\n",
       "                                                   'employment_status',\n",
       "                                                   'census_msa']),\n",
       "                                                 ('freq',\n",
       "                                                  Pipeline(steps=[('freq_encoder',\n",
       "                                                                   CountEncoder(combine_min_nan_groups=True,\n",
       "                                                                                min_group_size=0.05,\n",
       "                                                                                normalize=True)),\n",
       "                                                                  ('freq_imputer',\n",
       "                                                                   SimpleImputer(fill_value=0,\n",
       "                                                                                 strategy='constant'))]),\n",
       "                                                  ['hhs_geo_region',\n",
       "                                                   'employment_industry',\n",
       "                                                   'employment_occupation'])])),\n",
       "                ('classifier', KNeighborsClassifier())])"
      ]
     },
     "execution_count": 38,
     "metadata": {},
     "output_type": "execute_result"
    }
   ],
   "source": [
    "knn_clf.fit(X_train, y_train)"
   ]
  },
  {
   "cell_type": "code",
   "execution_count": 39,
   "metadata": {},
   "outputs": [],
   "source": [
    "knn_preds = knn_clf.predict(X_val)"
   ]
  },
  {
   "cell_type": "code",
   "execution_count": 40,
   "metadata": {},
   "outputs": [
    {
     "name": "stdout",
     "output_type": "stream",
     "text": [
      "accuracy: 0.799\n",
      "recall: 0.250\n",
      "f1: 0.353\n",
      "roc_auc: 0.602\n"
     ]
    }
   ],
   "source": [
    "print('accuracy: {:0.3f}'.format(accuracy_score(y_val, knn_preds)))\n",
    "print('recall: {:0.3f}'.format(recall_score(y_val, knn_preds)))\n",
    "print('f1: {:0.3f}'.format(f1_score(y_val, knn_preds)))\n",
    "print('roc_auc: {:0.3f}'.format(roc_auc_score(y_val , knn_preds)))"
   ]
  },
  {
   "cell_type": "code",
   "execution_count": 41,
   "metadata": {
    "scrolled": true
   },
   "outputs": [
    {
     "data": {
      "text/plain": [
       "<sklearn.metrics._plot.confusion_matrix.ConfusionMatrixDisplay at 0x21e0c225e20>"
      ]
     },
     "execution_count": 41,
     "metadata": {},
     "output_type": "execute_result"
    },
    {
     "data": {
      "image/png": "[encoded data removed]",
      "text/plain": [
       "<Figure size 432x288 with 2 Axes>"
      ]
     },
     "metadata": {
      "needs_background": "light"
     },
     "output_type": "display_data"
    }
   ],
   "source": [
    "plot_confusion_matrix(knn_clf, X_val, y_val)"
   ]
  },
  {
   "cell_type": "markdown",
   "metadata": {},
   "source": [
    "## Random Forest"
   ]
  },
  {
   "cell_type": "code",
   "execution_count": 42,
   "metadata": {},
   "outputs": [],
   "source": [
    "from sklearn.ensemble import RandomForestClassifier"
   ]
  },
  {
   "cell_type": "code",
   "execution_count": 81,
   "metadata": {},
   "outputs": [],
   "source": [
    "rf_clf = Pipeline(steps=[\n",
    "    ('preprocessor', preprocessor),\n",
    "    ('classifier', RandomForestClassifier())\n",
    "])"
   ]
  },
  {
   "cell_type": "code",
   "execution_count": 82,
   "metadata": {
    "scrolled": true
   },
   "outputs": [
    {
     "data": {
      "text/plain": [
       "{'fit_time': array([6.37982011, 6.55396342, 6.77817488, 6.87282896, 5.49900389]),\n",
       " 'score_time': array([0.17916298, 0.17615271, 0.17615318, 0.19617057, 0.16515017]),\n",
       " 'test_score': array([0.8567751 , 0.85279663, 0.85466885, 0.85326469, 0.84249941]),\n",
       " 'train_score': array([1.        , 1.        , 0.99994149, 0.99994149, 1.        ])}"
      ]
     },
     "execution_count": 82,
     "metadata": {},
     "output_type": "execute_result"
    }
   ],
   "source": [
    "cross_validate(rf_clf, X_train, y_train, return_train_score=True)"
   ]
  },
  {
   "cell_type": "code",
   "execution_count": 83,
   "metadata": {},
   "outputs": [
    {
     "data": {
      "text/plain": [
       "Pipeline(steps=[('preprocessor',\n",
       "                 ColumnTransformer(transformers=[('num',\n",
       "                                                  Pipeline(steps=[('minmaxscaler',\n",
       "                                                                   MinMaxScaler()),\n",
       "                                                                  ('num_imputer',\n",
       "                                                                   IterativeImputer(max_iter=15))]),\n",
       "                                                  ['h1n1_concern',\n",
       "                                                   'h1n1_knowledge',\n",
       "                                                   'behavioral_antiviral_meds',\n",
       "                                                   'behavioral_avoidance',\n",
       "                                                   'behavioral_face_mask',\n",
       "                                                   'behavioral_wash_hands',\n",
       "                                                   'behavioral_large_gatherings',\n",
       "                                                   'behavioral_outside_ho...\n",
       "                                                   'marital_status',\n",
       "                                                   'rent_or_own',\n",
       "                                                   'employment_status',\n",
       "                                                   'census_msa']),\n",
       "                                                 ('freq',\n",
       "                                                  Pipeline(steps=[('freq_encoder',\n",
       "                                                                   CountEncoder(combine_min_nan_groups=True,\n",
       "                                                                                min_group_size=0.05,\n",
       "                                                                                normalize=True)),\n",
       "                                                                  ('freq_imputer',\n",
       "                                                                   SimpleImputer(fill_value=0,\n",
       "                                                                                 strategy='constant'))]),\n",
       "                                                  ['hhs_geo_region',\n",
       "                                                   'employment_industry',\n",
       "                                                   'employment_occupation'])])),\n",
       "                ('classifier', RandomForestClassifier())])"
      ]
     },
     "execution_count": 83,
     "metadata": {},
     "output_type": "execute_result"
    }
   ],
   "source": [
    "rf_clf.fit(X_train, y_train)"
   ]
  },
  {
   "cell_type": "code",
   "execution_count": 84,
   "metadata": {},
   "outputs": [],
   "source": [
    "rf_preds = rf_clf.predict(X_val)"
   ]
  },
  {
   "cell_type": "code",
   "execution_count": 85,
   "metadata": {
    "scrolled": true
   },
   "outputs": [
    {
     "name": "stdout",
     "output_type": "stream",
     "text": [
      "accuracy: 0.845\n",
      "recall: 0.422\n",
      "f1: 0.544\n",
      "roc_auc: 0.693\n"
     ]
    }
   ],
   "source": [
    "print('accuracy: {:0.3f}'.format(accuracy_score(y_val, rf_preds)))\n",
    "print('recall: {:0.3f}'.format(recall_score(y_val, rf_preds)))\n",
    "print('f1: {:0.3f}'.format(f1_score(y_val, rf_preds)))\n",
    "print('roc_auc: {:0.3f}'.format(roc_auc_score(y_val , rf_preds)))"
   ]
  },
  {
   "cell_type": "code",
   "execution_count": 86,
   "metadata": {},
   "outputs": [
    {
     "data": {
      "text/plain": [
       "<sklearn.metrics._plot.confusion_matrix.ConfusionMatrixDisplay at 0x21e0b3b7130>"
      ]
     },
     "execution_count": 86,
     "metadata": {},
     "output_type": "execute_result"
    },
    {
     "data": {
      "image/png": "[encoded data removed]",
      "text/plain": [
       "<Figure size 432x288 with 2 Axes>"
      ]
     },
     "metadata": {
      "needs_background": "light"
     },
     "output_type": "display_data"
    }
   ],
   "source": [
    "plot_confusion_matrix(rf_clf, X_val, y_val)"
   ]
  },
  {
   "cell_type": "markdown",
   "metadata": {},
   "source": [
    "### 5.2 Tuning"
   ]
  },
  {
   "cell_type": "code",
   "execution_count": 87,
   "metadata": {},
   "outputs": [],
   "source": [
    "rf_params={#'classifier__n_estimators':[100, 150, 200,250, 300],\n",
    "           #'classifier__criterion':['gini', 'entropy'],\n",
    "           #'classifier__min_samples_split': [2, 8, 16, 20],\n",
    "           #'classifier__min_samples_leaf':[1, 8, 12, 18],\n",
    "           #'classifier__max_features':['auto','log2', None],\n",
    "           #'classifier__max_depth':[None, 6, 8, 10, 12],\n",
    "           #'classifier__max_leaf_nodes':[None, 10, 20, 30],\n",
    "           #'classifier__class_weight':['balanced', 'balanced_subsample', None]\n",
    "           \n",
    "       }"
   ]
  },
  {
   "cell_type": "code",
   "execution_count": 88,
   "metadata": {},
   "outputs": [],
   "source": [
    "grid_rf = GridSearchCV(rf_clf3, param_grid=rf_params, scoring='f1')\n",
    "output_rf = grid_rf.fit(X_train, y_train)"
   ]
  },
  {
   "cell_type": "code",
   "execution_count": 89,
   "metadata": {},
   "outputs": [
    {
     "name": "stdout",
     "output_type": "stream",
     "text": [
      "Best Param:{}, Best f1:0.568\n"
     ]
    }
   ],
   "source": [
    "print('Best Param:{0}, Best f1:{1:.3f}'.format(grid_rf.best_params_, \n",
    "                                               grid_rf.best_score_))"
   ]
  },
  {
   "cell_type": "markdown",
   "metadata": {},
   "source": [
    "- class_weight = None\n",
    "- criterion = entropy\n",
    "- n_estimators = 300\n",
    "- class weight = None\n",
    "- max features = None\n",
    "- max_leaf_nodes = None\n",
    "- max_depth = None\n",
    "- min_samples_leaf = 1\n",
    "- min samples split = larger = less overfitting => 100 or over depending on cross-validate result"
   ]
  },
  {
   "cell_type": "code",
   "execution_count": 90,
   "metadata": {},
   "outputs": [],
   "source": [
    "rf_clf2 = Pipeline(steps=[\n",
    "    ('preprocessor', preprocessor),\n",
    "    ('classifier', RandomForestClassifier(n_estimators = 300, criterion = 'entropy', max_features = None, min_samples_split = 20))\n",
    "])"
   ]
  },
  {
   "cell_type": "code",
   "execution_count": 91,
   "metadata": {
    "scrolled": false
   },
   "outputs": [
    {
     "data": {
      "text/plain": [
       "Pipeline(steps=[('preprocessor',\n",
       "                 ColumnTransformer(transformers=[('num',\n",
       "                                                  Pipeline(steps=[('minmaxscaler',\n",
       "                                                                   MinMaxScaler()),\n",
       "                                                                  ('num_imputer',\n",
       "                                                                   IterativeImputer(max_iter=15))]),\n",
       "                                                  ['h1n1_concern',\n",
       "                                                   'h1n1_knowledge',\n",
       "                                                   'behavioral_antiviral_meds',\n",
       "                                                   'behavioral_avoidance',\n",
       "                                                   'behavioral_face_mask',\n",
       "                                                   'behavioral_wash_hands',\n",
       "                                                   'behavioral_large_gatherings',\n",
       "                                                   'behavioral_outside_ho...\n",
       "                                                  Pipeline(steps=[('freq_encoder',\n",
       "                                                                   CountEncoder(combine_min_nan_groups=True,\n",
       "                                                                                min_group_size=0.05,\n",
       "                                                                                normalize=True)),\n",
       "                                                                  ('freq_imputer',\n",
       "                                                                   SimpleImputer(fill_value=0,\n",
       "                                                                                 strategy='constant'))]),\n",
       "                                                  ['hhs_geo_region',\n",
       "                                                   'employment_industry',\n",
       "                                                   'employment_occupation'])])),\n",
       "                ('classifier',\n",
       "                 RandomForestClassifier(criterion='entropy', max_features=None,\n",
       "                                        min_samples_split=20,\n",
       "                                        n_estimators=300))])"
      ]
     },
     "execution_count": 91,
     "metadata": {},
     "output_type": "execute_result"
    }
   ],
   "source": [
    "rf_clf2.fit(X_train, y_train)"
   ]
  },
  {
   "cell_type": "code",
   "execution_count": 92,
   "metadata": {
    "scrolled": true
   },
   "outputs": [
    {
     "data": {
      "text/plain": [
       "{'fit_time': array([31.98541975, 33.19978142, 31.89584231, 31.97439623, 30.83738232]),\n",
       " 'score_time': array([0.30127382, 0.30027318, 0.29826355, 0.30127454, 0.29726267]),\n",
       " 'test_score': array([0.85279663, 0.8542008 , 0.85396677, 0.85349871, 0.84717997]),\n",
       " 'train_score': array([0.92060613, 0.92101568, 0.9186169 , 0.92160075, 0.92300491])}"
      ]
     },
     "execution_count": 92,
     "metadata": {},
     "output_type": "execute_result"
    }
   ],
   "source": [
    "cross_validate(rf_clf2, X_train, y_train, return_train_score=True)"
   ]
  },
  {
   "cell_type": "code",
   "execution_count": 93,
   "metadata": {},
   "outputs": [],
   "source": [
    "rf_preds2 = rf_clf2.predict(X_val)"
   ]
  },
  {
   "cell_type": "code",
   "execution_count": 94,
   "metadata": {},
   "outputs": [
    {
     "name": "stdout",
     "output_type": "stream",
     "text": [
      "accuracy: 0.846\n",
      "recall: 0.462\n",
      "f1: 0.568\n",
      "roc_auc: 0.708\n"
     ]
    }
   ],
   "source": [
    "print('accuracy: {:0.3f}'.format(accuracy_score(y_val, rf_preds2)))\n",
    "print('recall: {:0.3f}'.format(recall_score(y_val, rf_preds2)))\n",
    "print('f1: {:0.3f}'.format(f1_score(y_val, rf_preds2)))\n",
    "print('roc_auc: {:0.3f}'.format(roc_auc_score(y_val , rf_preds2)))"
   ]
  },
  {
   "cell_type": "code",
   "execution_count": 43,
   "metadata": {},
   "outputs": [],
   "source": [
    "rf_clf3= Pipeline(steps=[\n",
    "    ('preprocessor', preprocessor),\n",
    "    ('classifier', RandomForestClassifier(n_estimators = 300, \n",
    "                                          criterion = 'entropy', \n",
    "                                          max_features = None, \n",
    "                                          min_samples_split = 100, \n",
    "                                          max_depth = None))\n",
    "])"
   ]
  },
  {
   "cell_type": "code",
   "execution_count": 100,
   "metadata": {
    "scrolled": true
   },
   "outputs": [
    {
     "data": {
      "text/plain": [
       "{'fit_time': array([27.60027742, 27.57715344, 27.55732226, 27.63543224, 27.79033494]),\n",
       " 'score_time': array([0.27224779, 0.27224779, 0.27024555, 0.27525091, 0.2742424 ]),\n",
       " 'test_score': array([0.85162649, 0.85326469, 0.85373274, 0.8525626 , 0.84600983]),\n",
       " 'train_score': array([0.86479055, 0.86373742, 0.86549263, 0.86689679, 0.86619471])}"
      ]
     },
     "execution_count": 100,
     "metadata": {},
     "output_type": "execute_result"
    }
   ],
   "source": [
    "cross_validate(rf_clf3, X_train, y_train, return_train_score=True)"
   ]
  },
  {
   "cell_type": "code",
   "execution_count": 44,
   "metadata": {},
   "outputs": [
    {
     "data": {
      "text/plain": [
       "Pipeline(steps=[('preprocessor',\n",
       "                 ColumnTransformer(transformers=[('num',\n",
       "                                                  Pipeline(steps=[('minmaxscaler',\n",
       "                                                                   MinMaxScaler()),\n",
       "                                                                  ('num_imputer',\n",
       "                                                                   IterativeImputer(max_iter=15))]),\n",
       "                                                  ['h1n1_concern',\n",
       "                                                   'h1n1_knowledge',\n",
       "                                                   'behavioral_antiviral_meds',\n",
       "                                                   'behavioral_avoidance',\n",
       "                                                   'behavioral_face_mask',\n",
       "                                                   'behavioral_wash_hands',\n",
       "                                                   'behavioral_large_gatherings',\n",
       "                                                   'behavioral_outside_ho...\n",
       "                                                  Pipeline(steps=[('freq_encoder',\n",
       "                                                                   CountEncoder(combine_min_nan_groups=True,\n",
       "                                                                                min_group_size=0.05,\n",
       "                                                                                normalize=True)),\n",
       "                                                                  ('freq_imputer',\n",
       "                                                                   SimpleImputer(fill_value=0,\n",
       "                                                                                 strategy='constant'))]),\n",
       "                                                  ['hhs_geo_region',\n",
       "                                                   'employment_industry',\n",
       "                                                   'employment_occupation'])])),\n",
       "                ('classifier',\n",
       "                 RandomForestClassifier(criterion='entropy', max_features=None,\n",
       "                                        min_samples_split=100,\n",
       "                                        n_estimators=300))])"
      ]
     },
     "execution_count": 44,
     "metadata": {},
     "output_type": "execute_result"
    }
   ],
   "source": [
    "rf_clf3.fit(X_train, y_train)"
   ]
  },
  {
   "cell_type": "code",
   "execution_count": 45,
   "metadata": {},
   "outputs": [],
   "source": [
    "rf_preds3 = rf_clf3.predict(X_val)"
   ]
  },
  {
   "cell_type": "code",
   "execution_count": 46,
   "metadata": {},
   "outputs": [
    {
     "name": "stdout",
     "output_type": "stream",
     "text": [
      "accuracy: 0.846\n",
      "recall: 0.449\n",
      "f1: 0.560\n",
      "roc_auc: 0.703\n"
     ]
    }
   ],
   "source": [
    "print('accuracy: {:0.3f}'.format(accuracy_score(y_val, rf_preds3)))\n",
    "print('recall: {:0.3f}'.format(recall_score(y_val, rf_preds3)))\n",
    "print('f1: {:0.3f}'.format(f1_score(y_val, rf_preds3)))\n",
    "print('roc_auc: {:0.3f}'.format(roc_auc_score(y_val , rf_preds3)))"
   ]
  },
  {
   "cell_type": "markdown",
   "metadata": {},
   "source": [
    "## Stack "
   ]
  },
  {
   "cell_type": "code",
   "execution_count": 47,
   "metadata": {},
   "outputs": [],
   "source": [
    "from sklearn.ensemble import StackingClassifier"
   ]
  },
  {
   "cell_type": "code",
   "execution_count": 95,
   "metadata": {},
   "outputs": [],
   "source": [
    "stack_clf = Pipeline(steps=[\n",
    "    ('preprocessor', preprocessor),\n",
    "    ('classifier', StackingClassifier(estimators=[('rf', RandomForestClassifier(n_estimators = 300, \n",
    "                                          criterion = 'entropy', \n",
    "                                          max_features = None, \n",
    "                                          min_samples_split = 100, \n",
    "                                          max_depth = None)),\n",
    "                                                 ('nb',GaussianNB(var_smoothing= 0.1873817422860384))],\n",
    "                                     final_estimator = LogisticRegression(C= 10, \n",
    "                                                                          class_weight= 'balanced', \n",
    "                                                                          penalty = 'l2')))\n",
    "])"
   ]
  },
  {
   "cell_type": "code",
   "execution_count": 96,
   "metadata": {},
   "outputs": [
    {
     "data": {
      "text/plain": [
       "{'fit_time': array([114.63306808, 122.07324767, 117.29504037, 115.73042107,\n",
       "        113.61356616]),\n",
       " 'score_time': array([0.28025436, 0.28025508, 0.28226495, 0.27726007, 0.26924586]),\n",
       " 'test_score': array([0.81465013, 0.81371402, 0.82354318, 0.81043763, 0.79873625]),\n",
       " 'train_score': array([0.83606366, 0.83635619, 0.83565411, 0.83594664, 0.83799438])}"
      ]
     },
     "execution_count": 96,
     "metadata": {},
     "output_type": "execute_result"
    }
   ],
   "source": [
    "cross_validate(stack_clf, X_train, y_train, return_train_score=True)"
   ]
  },
  {
   "cell_type": "code",
   "execution_count": 97,
   "metadata": {},
   "outputs": [
    {
     "data": {
      "text/plain": [
       "Pipeline(steps=[('preprocessor',\n",
       "                 ColumnTransformer(transformers=[('num',\n",
       "                                                  Pipeline(steps=[('minmaxscaler',\n",
       "                                                                   MinMaxScaler()),\n",
       "                                                                  ('num_imputer',\n",
       "                                                                   IterativeImputer(max_iter=15))]),\n",
       "                                                  ['h1n1_concern',\n",
       "                                                   'h1n1_knowledge',\n",
       "                                                   'behavioral_antiviral_meds',\n",
       "                                                   'behavioral_avoidance',\n",
       "                                                   'behavioral_face_mask',\n",
       "                                                   'behavioral_wash_hands',\n",
       "                                                   'behavioral_large_gatherings',\n",
       "                                                   'behavioral_outside_ho...\n",
       "                                                                                 strategy='constant'))]),\n",
       "                                                  ['hhs_geo_region',\n",
       "                                                   'employment_industry',\n",
       "                                                   'employment_occupation'])])),\n",
       "                ('classifier',\n",
       "                 StackingClassifier(estimators=[('rf',\n",
       "                                                 RandomForestClassifier(criterion='entropy',\n",
       "                                                                        max_features=None,\n",
       "                                                                        min_samples_split=100,\n",
       "                                                                        n_estimators=300)),\n",
       "                                                ('nb',\n",
       "                                                 GaussianNB(var_smoothing=0.1873817422860384))],\n",
       "                                    final_estimator=LogisticRegression(C=10,\n",
       "                                                                       class_weight='balanced')))])"
      ]
     },
     "execution_count": 97,
     "metadata": {},
     "output_type": "execute_result"
    }
   ],
   "source": [
    "stack_clf.fit(X_train, y_train)"
   ]
  },
  {
   "cell_type": "code",
   "execution_count": 98,
   "metadata": {},
   "outputs": [],
   "source": [
    "stack_preds = stack_clf.predict(X_val)"
   ]
  },
  {
   "cell_type": "code",
   "execution_count": 99,
   "metadata": {},
   "outputs": [
    {
     "name": "stdout",
     "output_type": "stream",
     "text": [
      "accuracy: 0.809\n",
      "recall: 0.711\n",
      "f1: 0.620\n",
      "roc_auc: 0.774\n"
     ]
    }
   ],
   "source": [
    "print('accuracy: {:0.3f}'.format(accuracy_score(y_val, stack_preds)))\n",
    "print('recall: {:0.3f}'.format(recall_score(y_val, stack_preds)))\n",
    "print('f1: {:0.3f}'.format(f1_score(y_val, stack_preds)))\n",
    "print('roc_auc: {:0.3f}'.format(roc_auc_score(y_val , stack_preds)))"
   ]
  },
  {
   "cell_type": "markdown",
   "metadata": {},
   "source": [
    "## Stack 2.0"
   ]
  },
  {
   "cell_type": "code",
   "execution_count": 48,
   "metadata": {},
   "outputs": [],
   "source": [
    "stack_clf2 = Pipeline(steps=[\n",
    "    ('preprocessor', preprocessor),\n",
    "    ('classifier', StackingClassifier(estimators=[('rf', RandomForestClassifier(n_estimators = 300, \n",
    "                                          criterion = 'entropy', \n",
    "                                          max_features = None, \n",
    "                                          min_samples_split = 100, \n",
    "                                          max_depth = None))],\n",
    "                                     final_estimator = LogisticRegression(C= 10, \n",
    "                                                                          class_weight= 'balanced', \n",
    "                                                                          penalty = 'l2')))\n",
    "])"
   ]
  },
  {
   "cell_type": "code",
   "execution_count": 49,
   "metadata": {},
   "outputs": [
    {
     "data": {
      "text/plain": [
       "{'fit_time': array([118.91603112, 115.26718497, 111.2928021 , 112.45765901,\n",
       "        109.86758161]),\n",
       " 'score_time': array([0.25523996, 0.2552402 , 0.25623298, 0.25523233, 0.2502346 ]),\n",
       " 'test_score': array([0.81277791, 0.81675638, 0.82213901, 0.81207582, 0.80037444]),\n",
       " 'train_score': array([0.8398081 , 0.83863796, 0.83857945, 0.83699977, 0.84109525])}"
      ]
     },
     "execution_count": 49,
     "metadata": {},
     "output_type": "execute_result"
    }
   ],
   "source": [
    "cross_validate(stack_clf2, X_train, y_train, return_train_score=True)"
   ]
  },
  {
   "cell_type": "code",
   "execution_count": 50,
   "metadata": {},
   "outputs": [
    {
     "data": {
      "text/plain": [
       "Pipeline(steps=[('preprocessor',\n",
       "                 ColumnTransformer(transformers=[('num',\n",
       "                                                  Pipeline(steps=[('minmaxscaler',\n",
       "                                                                   MinMaxScaler()),\n",
       "                                                                  ('num_imputer',\n",
       "                                                                   IterativeImputer(max_iter=15))]),\n",
       "                                                  ['h1n1_concern',\n",
       "                                                   'h1n1_knowledge',\n",
       "                                                   'behavioral_antiviral_meds',\n",
       "                                                   'behavioral_avoidance',\n",
       "                                                   'behavioral_face_mask',\n",
       "                                                   'behavioral_wash_hands',\n",
       "                                                   'behavioral_large_gatherings',\n",
       "                                                   'behavioral_outside_ho...\n",
       "                                                                  ('freq_imputer',\n",
       "                                                                   SimpleImputer(fill_value=0,\n",
       "                                                                                 strategy='constant'))]),\n",
       "                                                  ['hhs_geo_region',\n",
       "                                                   'employment_industry',\n",
       "                                                   'employment_occupation'])])),\n",
       "                ('classifier',\n",
       "                 StackingClassifier(estimators=[('rf',\n",
       "                                                 RandomForestClassifier(criterion='entropy',\n",
       "                                                                        max_features=None,\n",
       "                                                                        min_samples_split=100,\n",
       "                                                                        n_estimators=300))],\n",
       "                                    final_estimator=LogisticRegression(C=10,\n",
       "                                                                       class_weight='balanced')))])"
      ]
     },
     "execution_count": 50,
     "metadata": {},
     "output_type": "execute_result"
    }
   ],
   "source": [
    "stack_clf2.fit(X_train, y_train)"
   ]
  },
  {
   "cell_type": "code",
   "execution_count": 51,
   "metadata": {},
   "outputs": [],
   "source": [
    "stack_preds2 = stack_clf2.predict(X_val)"
   ]
  },
  {
   "cell_type": "code",
   "execution_count": 52,
   "metadata": {},
   "outputs": [
    {
     "name": "stdout",
     "output_type": "stream",
     "text": [
      "accuracy: 0.808\n",
      "recall: 0.700\n",
      "f1: 0.615\n",
      "roc_auc: 0.769\n"
     ]
    }
   ],
   "source": [
    "print('accuracy: {:0.3f}'.format(accuracy_score(y_val, stack_preds2)))\n",
    "print('recall: {:0.3f}'.format(recall_score(y_val, stack_preds2)))\n",
    "print('f1: {:0.3f}'.format(f1_score(y_val, stack_preds2)))\n",
    "print('roc_auc: {:0.3f}'.format(roc_auc_score(y_val , stack_preds2)))"
   ]
  },
  {
   "cell_type": "code",
   "execution_count": null,
   "metadata": {},
   "outputs": [],
   "source": [
    "plot_confusion_matrix(output.best_estimator_, X_val, y_val)"
   ]
  },
  {
   "cell_type": "code",
   "execution_count": null,
   "metadata": {},
   "outputs": [],
   "source": [
    "plot_confusion_matrix(output_nb.best_estimator_, X_val, y_val)"
   ]
  },
  {
   "cell_type": "code",
   "execution_count": null,
   "metadata": {},
   "outputs": [],
   "source": [
    "plot_confusion_matrix(rf_clf3 ,X_val,y_val)"
   ]
  },
  {
   "cell_type": "code",
   "execution_count": null,
   "metadata": {
    "scrolled": false
   },
   "outputs": [],
   "source": [
    "plot_confusion_matrix(stack_clf2, X_val, y_val)"
   ]
  },
  {
   "cell_type": "markdown",
   "metadata": {},
   "source": [
    "## Evaluation\n",
    "\n",
    "The evaluation of each model should accompany the creation of each model, and you should be sure to evaluate your models consistently.\n",
    "\n",
    "Evaluate how well your work solves the stated business problem. \n",
    "\n",
    "Questions to consider:\n",
    "\n",
    "- How do you interpret the results?\n",
    "- How well does your model fit your data? How much better is this than your baseline model? Is it over or under fit?\n",
    "- How well does your model/data fit any relevant modeling assumptions?\n",
    "\n",
    "For the final model, you might also consider:\n",
    "\n",
    "- How confident are you that your results would generalize beyond the data you have?\n",
    "- How confident are you that this model would benefit the business if put into use?\n",
    "- What does this final model tell you about the relationship between your inputs and outputs?"
   ]
  },
  {
   "cell_type": "markdown",
   "metadata": {},
   "source": [
    "### Baseline Understanding\n",
    "\n",
    "- What does a baseline, model-less prediction look like?"
   ]
  },
  {
   "cell_type": "code",
   "execution_count": null,
   "metadata": {},
   "outputs": [],
   "source": [
    "# code here to arrive at a baseline prediction"
   ]
  },
  {
   "cell_type": "markdown",
   "metadata": {},
   "source": [
    "### First $&(@# Model\n",
    "\n",
    "Before going too far down the data preparation rabbit hole, be sure to check your work against a first 'substandard' model! What is the easiest way for you to find out how hard your problem is?"
   ]
  },
  {
   "cell_type": "code",
   "execution_count": null,
   "metadata": {},
   "outputs": [],
   "source": [
    "# code here for your first 'substandard' model"
   ]
  },
  {
   "cell_type": "code",
   "execution_count": null,
   "metadata": {},
   "outputs": [],
   "source": [
    "# code here to evaluate your first 'substandard' model"
   ]
  },
  {
   "cell_type": "markdown",
   "metadata": {},
   "source": [
    "### Modeling Iterations\n",
    "\n",
    "Now you can start to use the results of your first model to iterate - there are many options!"
   ]
  },
  {
   "cell_type": "code",
   "execution_count": null,
   "metadata": {},
   "outputs": [],
   "source": [
    "# code here to iteratively improve your models"
   ]
  },
  {
   "cell_type": "code",
   "execution_count": null,
   "metadata": {},
   "outputs": [],
   "source": [
    "# code here to evaluate your iterations"
   ]
  },
  {
   "cell_type": "markdown",
   "metadata": {},
   "source": [
    "### 'Final' Model\n",
    "\n",
    "In the end, you'll arrive at a 'final' model - aka the one you'll use to make your recommendations/conclusions. This likely blends any group work. It might not be the one with the highest scores, but instead might be considered 'final' or 'best' for other reasons."
   ]
  },
  {
   "cell_type": "code",
   "execution_count": null,
   "metadata": {},
   "outputs": [],
   "source": [
    "# code here to show your final model"
   ]
  },
  {
   "cell_type": "code",
   "execution_count": null,
   "metadata": {},
   "outputs": [],
   "source": [
    "# code here to evaluate your final model"
   ]
  },
  {
   "cell_type": "markdown",
   "metadata": {},
   "source": [
    "## Conclusions\n",
    "\n",
    "Provide your conclusions about the work you've done, including any limitations or next steps.\n",
    "\n",
    "Questions to consider:\n",
    "\n",
    "- What would you recommend the business do as a result of this work?\n",
    "- How could the stakeholder use your model effectively?\n",
    "- What are some reasons why your analysis might not fully solve the business problem?\n",
    "- What else could you do in the future to improve this project (future work)?\n"
   ]
  }
 ],
 "metadata": {
  "kernelspec": {
   "display_name": "Python (learn-env)",
   "language": "python",
   "name": "learn-env"
  },
  "language_info": {
   "codemirror_mode": {
    "name": "ipython",
    "version": 3
   },
   "file_extension": ".py",
   "mimetype": "text/x-python",
   "name": "python",
   "nbconvert_exporter": "python",
   "pygments_lexer": "ipython3",
   "version": "3.8.5"
  }
 },
 "nbformat": 4,
 "nbformat_minor": 4
}
