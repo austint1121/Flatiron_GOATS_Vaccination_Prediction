{
 "cells": [
  {
   "cell_type": "markdown",
   "metadata": {
    "collapsed": true,
    "pycharm": {
     "name": "#%% md\n"
    }
   },
   "source": [
    "# Matthew Exploratory Data Analysis\n",
    "\n",
    "## Buisness Problem:\n",
    "  - Goat city is ordering Covid vaccines and is fully aware that not everyone will get the vaccine. Goat city wants to know how many Covid vaccines they should be ordering. We want to show them that using a survey to predict if a person will get a vaccine is a valid way of estimating how many vaccines to get.\n",
    "## Dataset:\n",
    "Data sourced from [DataDriven](https://www.drivendata.org/competitions/66/flu-shot-learning/page/210/)\n",
    "Datadriven description of the dataset says:\n",
    "> Vaccines for H1N1 were first publicly available in the United States in October 2009, when the United States government began a vaccination campaign. We will look at data from the National 2009 H1N1 Flu Survey collected to monitor vaccination rates during that campaign. This phone survey asked people whether they had received H1N1 and seasonal flu vaccines, in conjunction with information they shared about their lives, opinions, and behaviors. A better understanding of how these characteristics have been associated with personal vaccination patterns may provide guidance for future public health efforts.\n",
    ">\n",
    "The data has already been split into a train and test set, however, we do not have access to the testing set's labels. For now, our group will be focusing ONLY on the h1n1 vaccine label.\n"
   ]
  },
  {
   "cell_type": "code",
   "execution_count": 11,
   "outputs": [],
   "source": [
    "import pandas as pd\n",
    "import matplotlib.pyplot as plt\n",
    "import seaborn as sns\n",
    "import numpy as np\n",
    "\n",
    "# Training labels\n",
    "training_labels = pd.read_csv('../../Data/training_set_labels.csv', index_col='respondent_id')\n",
    "training_features = pd.read_csv('../../Data/training_set_features.csv', index_col='respondent_id')"
   ],
   "metadata": {
    "collapsed": false,
    "pycharm": {
     "name": "#%%\n"
    }
   }
  },
  {
   "cell_type": "code",
   "execution_count": 12,
   "outputs": [
    {
     "data": {
      "text/plain": "               h1n1_concern  h1n1_knowledge  behavioral_antiviral_meds  \\\nrespondent_id                                                            \n0                       1.0             0.0                        0.0   \n1                       3.0             2.0                        0.0   \n2                       1.0             1.0                        0.0   \n3                       1.0             1.0                        0.0   \n4                       2.0             1.0                        0.0   \n...                     ...             ...                        ...   \n26702                   2.0             0.0                        0.0   \n26703                   1.0             2.0                        0.0   \n26704                   2.0             2.0                        0.0   \n26705                   1.0             1.0                        0.0   \n26706                   0.0             0.0                        0.0   \n\n               behavioral_avoidance  behavioral_face_mask  \\\nrespondent_id                                               \n0                               0.0                   0.0   \n1                               1.0                   0.0   \n2                               1.0                   0.0   \n3                               1.0                   0.0   \n4                               1.0                   0.0   \n...                             ...                   ...   \n26702                           1.0                   0.0   \n26703                           1.0                   0.0   \n26704                           1.0                   1.0   \n26705                           0.0                   0.0   \n26706                           1.0                   0.0   \n\n               behavioral_wash_hands  behavioral_large_gatherings  \\\nrespondent_id                                                       \n0                                0.0                          0.0   \n1                                1.0                          0.0   \n2                                0.0                          0.0   \n3                                1.0                          1.0   \n4                                1.0                          1.0   \n...                              ...                          ...   \n26702                            0.0                          0.0   \n26703                            1.0                          0.0   \n26704                            1.0                          1.0   \n26705                            0.0                          0.0   \n26706                            0.0                          0.0   \n\n               behavioral_outside_home  behavioral_touch_face  \\\nrespondent_id                                                   \n0                                  1.0                    1.0   \n1                                  1.0                    1.0   \n2                                  0.0                    0.0   \n3                                  0.0                    0.0   \n4                                  0.0                    1.0   \n...                                ...                    ...   \n26702                              1.0                    0.0   \n26703                              0.0                    0.0   \n26704                              0.0                    1.0   \n26705                              0.0                    NaN   \n26706                              0.0                    0.0   \n\n               doctor_recc_h1n1  ...             income_poverty  \\\nrespondent_id                    ...                              \n0                           0.0  ...              Below Poverty   \n1                           0.0  ...              Below Poverty   \n2                           NaN  ...  <= $75,000, Above Poverty   \n3                           0.0  ...              Below Poverty   \n4                           0.0  ...  <= $75,000, Above Poverty   \n...                         ...  ...                        ...   \n26702                       0.0  ...  <= $75,000, Above Poverty   \n26703                       1.0  ...  <= $75,000, Above Poverty   \n26704                       0.0  ...                        NaN   \n26705                       0.0  ...  <= $75,000, Above Poverty   \n26706                       0.0  ...  <= $75,000, Above Poverty   \n\n               marital_status  rent_or_own   employment_status  \\\nrespondent_id                                                    \n0                 Not Married          Own  Not in Labor Force   \n1                 Not Married         Rent            Employed   \n2                 Not Married          Own            Employed   \n3                 Not Married         Rent  Not in Labor Force   \n4                     Married          Own            Employed   \n...                       ...          ...                 ...   \n26702             Not Married          Own  Not in Labor Force   \n26703             Not Married         Rent            Employed   \n26704             Not Married          Own                 NaN   \n26705                 Married         Rent            Employed   \n26706                 Married          Own  Not in Labor Force   \n\n               hhs_geo_region                census_msa  household_adults  \\\nrespondent_id                                                               \n0                    oxchjgsf                   Non-MSA               0.0   \n1                    bhuqouqj  MSA, Not Principle  City               0.0   \n2                    qufhixun  MSA, Not Principle  City               2.0   \n3                    lrircsnp       MSA, Principle City               0.0   \n4                    qufhixun  MSA, Not Principle  City               1.0   \n...                       ...                       ...               ...   \n26702                qufhixun                   Non-MSA               0.0   \n26703                lzgpxyit       MSA, Principle City               1.0   \n26704                lzgpxyit  MSA, Not Principle  City               0.0   \n26705                lrircsnp                   Non-MSA               1.0   \n26706                mlyzmhmf       MSA, Principle City               1.0   \n\n               household_children  employment_industry  employment_occupation  \nrespondent_id                                                                  \n0                             0.0                  NaN                    NaN  \n1                             0.0             pxcmvdjn               xgwztkwe  \n2                             0.0             rucpziij               xtkaffoo  \n3                             0.0                  NaN                    NaN  \n4                             0.0             wxleyezf               emcorrxb  \n...                           ...                  ...                    ...  \n26702                         0.0                  NaN                    NaN  \n26703                         0.0             fcxhlnwr               cmhcxjea  \n26704                         0.0                  NaN                    NaN  \n26705                         0.0             fcxhlnwr               haliazsg  \n26706                         0.0                  NaN                    NaN  \n\n[26707 rows x 35 columns]",
      "text/html": "<div>\n<style scoped>\n    .dataframe tbody tr th:only-of-type {\n        vertical-align: middle;\n    }\n\n    .dataframe tbody tr th {\n        vertical-align: top;\n    }\n\n    .dataframe thead th {\n        text-align: right;\n    }\n</style>\n<table border=\"1\" class=\"dataframe\">\n  <thead>\n    <tr style=\"text-align: right;\">\n      <th></th>\n      <th>h1n1_concern</th>\n      <th>h1n1_knowledge</th>\n      <th>behavioral_antiviral_meds</th>\n      <th>behavioral_avoidance</th>\n      <th>behavioral_face_mask</th>\n      <th>behavioral_wash_hands</th>\n      <th>behavioral_large_gatherings</th>\n      <th>behavioral_outside_home</th>\n      <th>behavioral_touch_face</th>\n      <th>doctor_recc_h1n1</th>\n      <th>...</th>\n      <th>income_poverty</th>\n      <th>marital_status</th>\n      <th>rent_or_own</th>\n      <th>employment_status</th>\n      <th>hhs_geo_region</th>\n      <th>census_msa</th>\n      <th>household_adults</th>\n      <th>household_children</th>\n      <th>employment_industry</th>\n      <th>employment_occupation</th>\n    </tr>\n    <tr>\n      <th>respondent_id</th>\n      <th></th>\n      <th></th>\n      <th></th>\n      <th></th>\n      <th></th>\n      <th></th>\n      <th></th>\n      <th></th>\n      <th></th>\n      <th></th>\n      <th></th>\n      <th></th>\n      <th></th>\n      <th></th>\n      <th></th>\n      <th></th>\n      <th></th>\n      <th></th>\n      <th></th>\n      <th></th>\n      <th></th>\n    </tr>\n  </thead>\n  <tbody>\n    <tr>\n      <th>0</th>\n      <td>1.0</td>\n      <td>0.0</td>\n      <td>0.0</td>\n      <td>0.0</td>\n      <td>0.0</td>\n      <td>0.0</td>\n      <td>0.0</td>\n      <td>1.0</td>\n      <td>1.0</td>\n      <td>0.0</td>\n      <td>...</td>\n      <td>Below Poverty</td>\n      <td>Not Married</td>\n      <td>Own</td>\n      <td>Not in Labor Force</td>\n      <td>oxchjgsf</td>\n      <td>Non-MSA</td>\n      <td>0.0</td>\n      <td>0.0</td>\n      <td>NaN</td>\n      <td>NaN</td>\n    </tr>\n    <tr>\n      <th>1</th>\n      <td>3.0</td>\n      <td>2.0</td>\n      <td>0.0</td>\n      <td>1.0</td>\n      <td>0.0</td>\n      <td>1.0</td>\n      <td>0.0</td>\n      <td>1.0</td>\n      <td>1.0</td>\n      <td>0.0</td>\n      <td>...</td>\n      <td>Below Poverty</td>\n      <td>Not Married</td>\n      <td>Rent</td>\n      <td>Employed</td>\n      <td>bhuqouqj</td>\n      <td>MSA, Not Principle  City</td>\n      <td>0.0</td>\n      <td>0.0</td>\n      <td>pxcmvdjn</td>\n      <td>xgwztkwe</td>\n    </tr>\n    <tr>\n      <th>2</th>\n      <td>1.0</td>\n      <td>1.0</td>\n      <td>0.0</td>\n      <td>1.0</td>\n      <td>0.0</td>\n      <td>0.0</td>\n      <td>0.0</td>\n      <td>0.0</td>\n      <td>0.0</td>\n      <td>NaN</td>\n      <td>...</td>\n      <td>&lt;= $75,000, Above Poverty</td>\n      <td>Not Married</td>\n      <td>Own</td>\n      <td>Employed</td>\n      <td>qufhixun</td>\n      <td>MSA, Not Principle  City</td>\n      <td>2.0</td>\n      <td>0.0</td>\n      <td>rucpziij</td>\n      <td>xtkaffoo</td>\n    </tr>\n    <tr>\n      <th>3</th>\n      <td>1.0</td>\n      <td>1.0</td>\n      <td>0.0</td>\n      <td>1.0</td>\n      <td>0.0</td>\n      <td>1.0</td>\n      <td>1.0</td>\n      <td>0.0</td>\n      <td>0.0</td>\n      <td>0.0</td>\n      <td>...</td>\n      <td>Below Poverty</td>\n      <td>Not Married</td>\n      <td>Rent</td>\n      <td>Not in Labor Force</td>\n      <td>lrircsnp</td>\n      <td>MSA, Principle City</td>\n      <td>0.0</td>\n      <td>0.0</td>\n      <td>NaN</td>\n      <td>NaN</td>\n    </tr>\n    <tr>\n      <th>4</th>\n      <td>2.0</td>\n      <td>1.0</td>\n      <td>0.0</td>\n      <td>1.0</td>\n      <td>0.0</td>\n      <td>1.0</td>\n      <td>1.0</td>\n      <td>0.0</td>\n      <td>1.0</td>\n      <td>0.0</td>\n      <td>...</td>\n      <td>&lt;= $75,000, Above Poverty</td>\n      <td>Married</td>\n      <td>Own</td>\n      <td>Employed</td>\n      <td>qufhixun</td>\n      <td>MSA, Not Principle  City</td>\n      <td>1.0</td>\n      <td>0.0</td>\n      <td>wxleyezf</td>\n      <td>emcorrxb</td>\n    </tr>\n    <tr>\n      <th>...</th>\n      <td>...</td>\n      <td>...</td>\n      <td>...</td>\n      <td>...</td>\n      <td>...</td>\n      <td>...</td>\n      <td>...</td>\n      <td>...</td>\n      <td>...</td>\n      <td>...</td>\n      <td>...</td>\n      <td>...</td>\n      <td>...</td>\n      <td>...</td>\n      <td>...</td>\n      <td>...</td>\n      <td>...</td>\n      <td>...</td>\n      <td>...</td>\n      <td>...</td>\n      <td>...</td>\n    </tr>\n    <tr>\n      <th>26702</th>\n      <td>2.0</td>\n      <td>0.0</td>\n      <td>0.0</td>\n      <td>1.0</td>\n      <td>0.0</td>\n      <td>0.0</td>\n      <td>0.0</td>\n      <td>1.0</td>\n      <td>0.0</td>\n      <td>0.0</td>\n      <td>...</td>\n      <td>&lt;= $75,000, Above Poverty</td>\n      <td>Not Married</td>\n      <td>Own</td>\n      <td>Not in Labor Force</td>\n      <td>qufhixun</td>\n      <td>Non-MSA</td>\n      <td>0.0</td>\n      <td>0.0</td>\n      <td>NaN</td>\n      <td>NaN</td>\n    </tr>\n    <tr>\n      <th>26703</th>\n      <td>1.0</td>\n      <td>2.0</td>\n      <td>0.0</td>\n      <td>1.0</td>\n      <td>0.0</td>\n      <td>1.0</td>\n      <td>0.0</td>\n      <td>0.0</td>\n      <td>0.0</td>\n      <td>1.0</td>\n      <td>...</td>\n      <td>&lt;= $75,000, Above Poverty</td>\n      <td>Not Married</td>\n      <td>Rent</td>\n      <td>Employed</td>\n      <td>lzgpxyit</td>\n      <td>MSA, Principle City</td>\n      <td>1.0</td>\n      <td>0.0</td>\n      <td>fcxhlnwr</td>\n      <td>cmhcxjea</td>\n    </tr>\n    <tr>\n      <th>26704</th>\n      <td>2.0</td>\n      <td>2.0</td>\n      <td>0.0</td>\n      <td>1.0</td>\n      <td>1.0</td>\n      <td>1.0</td>\n      <td>1.0</td>\n      <td>0.0</td>\n      <td>1.0</td>\n      <td>0.0</td>\n      <td>...</td>\n      <td>NaN</td>\n      <td>Not Married</td>\n      <td>Own</td>\n      <td>NaN</td>\n      <td>lzgpxyit</td>\n      <td>MSA, Not Principle  City</td>\n      <td>0.0</td>\n      <td>0.0</td>\n      <td>NaN</td>\n      <td>NaN</td>\n    </tr>\n    <tr>\n      <th>26705</th>\n      <td>1.0</td>\n      <td>1.0</td>\n      <td>0.0</td>\n      <td>0.0</td>\n      <td>0.0</td>\n      <td>0.0</td>\n      <td>0.0</td>\n      <td>0.0</td>\n      <td>NaN</td>\n      <td>0.0</td>\n      <td>...</td>\n      <td>&lt;= $75,000, Above Poverty</td>\n      <td>Married</td>\n      <td>Rent</td>\n      <td>Employed</td>\n      <td>lrircsnp</td>\n      <td>Non-MSA</td>\n      <td>1.0</td>\n      <td>0.0</td>\n      <td>fcxhlnwr</td>\n      <td>haliazsg</td>\n    </tr>\n    <tr>\n      <th>26706</th>\n      <td>0.0</td>\n      <td>0.0</td>\n      <td>0.0</td>\n      <td>1.0</td>\n      <td>0.0</td>\n      <td>0.0</td>\n      <td>0.0</td>\n      <td>0.0</td>\n      <td>0.0</td>\n      <td>0.0</td>\n      <td>...</td>\n      <td>&lt;= $75,000, Above Poverty</td>\n      <td>Married</td>\n      <td>Own</td>\n      <td>Not in Labor Force</td>\n      <td>mlyzmhmf</td>\n      <td>MSA, Principle City</td>\n      <td>1.0</td>\n      <td>0.0</td>\n      <td>NaN</td>\n      <td>NaN</td>\n    </tr>\n  </tbody>\n</table>\n<p>26707 rows × 35 columns</p>\n</div>"
     },
     "execution_count": 12,
     "metadata": {},
     "output_type": "execute_result"
    }
   ],
   "source": [
    "# Visually confirm expected results\n",
    "training_features"
   ],
   "metadata": {
    "collapsed": false,
    "pycharm": {
     "name": "#%%\n"
    }
   }
  },
  {
   "cell_type": "markdown",
   "source": [
    "## Checking for NaN Values"
   ],
   "metadata": {
    "collapsed": false,
    "pycharm": {
     "name": "#%% md\n"
    }
   }
  },
  {
   "cell_type": "code",
   "execution_count": 14,
   "outputs": [
    {
     "data": {
      "text/plain": "h1n1_concern                      92\nh1n1_knowledge                   116\nbehavioral_antiviral_meds         71\nbehavioral_avoidance             208\nbehavioral_face_mask              19\nbehavioral_wash_hands             42\nbehavioral_large_gatherings       87\nbehavioral_outside_home           82\nbehavioral_touch_face            128\ndoctor_recc_h1n1                2160\ndoctor_recc_seasonal            2160\nchronic_med_condition            971\nchild_under_6_months             820\nhealth_worker                    804\nhealth_insurance               12274\nopinion_h1n1_vacc_effective      391\nopinion_h1n1_risk                388\nopinion_h1n1_sick_from_vacc      395\nopinion_seas_vacc_effective      462\nopinion_seas_risk                514\nopinion_seas_sick_from_vacc      537\nage_group                          0\neducation                       1407\nrace                               0\nsex                                0\nincome_poverty                  4423\nmarital_status                  1408\nrent_or_own                     2042\nemployment_status               1463\nhhs_geo_region                     0\ncensus_msa                         0\nhousehold_adults                 249\nhousehold_children               249\nemployment_industry            13330\nemployment_occupation          13470\ndtype: int64"
     },
     "execution_count": 14,
     "metadata": {},
     "output_type": "execute_result"
    }
   ],
   "source": [
    "# Checking Features\n",
    "training_features.isna().sum()"
   ],
   "metadata": {
    "collapsed": false,
    "pycharm": {
     "name": "#%%\n"
    }
   }
  },
  {
   "cell_type": "code",
   "execution_count": 15,
   "outputs": [
    {
     "data": {
      "text/plain": "h1n1_vaccine        0\nseasonal_vaccine    0\ndtype: int64"
     },
     "execution_count": 15,
     "metadata": {},
     "output_type": "execute_result"
    }
   ],
   "source": [
    "# Checking labels\n",
    "training_labels.isna().sum()"
   ],
   "metadata": {
    "collapsed": false,
    "pycharm": {
     "name": "#%%\n"
    }
   }
  },
  {
   "cell_type": "code",
   "execution_count": 17,
   "outputs": [
    {
     "data": {
      "text/plain": "       h1n1_concern  h1n1_knowledge  behavioral_antiviral_meds  \\\ncount  26615.000000    26591.000000               26636.000000   \nmean       1.618486        1.262532                   0.048844   \nstd        0.910311        0.618149                   0.215545   \nmin        0.000000        0.000000                   0.000000   \n25%        1.000000        1.000000                   0.000000   \n50%        2.000000        1.000000                   0.000000   \n75%        2.000000        2.000000                   0.000000   \nmax        3.000000        2.000000                   1.000000   \n\n       behavioral_avoidance  behavioral_face_mask  behavioral_wash_hands  \\\ncount          26499.000000          26688.000000           26665.000000   \nmean               0.725612              0.068982               0.825614   \nstd                0.446214              0.253429               0.379448   \nmin                0.000000              0.000000               0.000000   \n25%                0.000000              0.000000               1.000000   \n50%                1.000000              0.000000               1.000000   \n75%                1.000000              0.000000               1.000000   \nmax                1.000000              1.000000               1.000000   \n\n       behavioral_large_gatherings  behavioral_outside_home  \\\ncount                  26620.00000             26625.000000   \nmean                       0.35864                 0.337315   \nstd                        0.47961                 0.472802   \nmin                        0.00000                 0.000000   \n25%                        0.00000                 0.000000   \n50%                        0.00000                 0.000000   \n75%                        1.00000                 1.000000   \nmax                        1.00000                 1.000000   \n\n       behavioral_touch_face  doctor_recc_h1n1  ...  health_worker  \\\ncount           26579.000000      24547.000000  ...   25903.000000   \nmean                0.677264          0.220312  ...       0.111918   \nstd                 0.467531          0.414466  ...       0.315271   \nmin                 0.000000          0.000000  ...       0.000000   \n25%                 0.000000          0.000000  ...       0.000000   \n50%                 1.000000          0.000000  ...       0.000000   \n75%                 1.000000          0.000000  ...       0.000000   \nmax                 1.000000          1.000000  ...       1.000000   \n\n       health_insurance  opinion_h1n1_vacc_effective  opinion_h1n1_risk  \\\ncount       14433.00000                 26316.000000       26319.000000   \nmean            0.87972                     3.850623           2.342566   \nstd             0.32530                     1.007436           1.285539   \nmin             0.00000                     1.000000           1.000000   \n25%             1.00000                     3.000000           1.000000   \n50%             1.00000                     4.000000           2.000000   \n75%             1.00000                     5.000000           4.000000   \nmax             1.00000                     5.000000           5.000000   \n\n       opinion_h1n1_sick_from_vacc  opinion_seas_vacc_effective  \\\ncount                 26312.000000                 26245.000000   \nmean                      2.357670                     4.025986   \nstd                       1.362766                     1.086565   \nmin                       1.000000                     1.000000   \n25%                       1.000000                     4.000000   \n50%                       2.000000                     4.000000   \n75%                       4.000000                     5.000000   \nmax                       5.000000                     5.000000   \n\n       opinion_seas_risk  opinion_seas_sick_from_vacc  household_adults  \\\ncount       26193.000000                 26170.000000      26458.000000   \nmean            2.719162                     2.118112          0.886499   \nstd             1.385055                     1.332950          0.753422   \nmin             1.000000                     1.000000          0.000000   \n25%             2.000000                     1.000000          0.000000   \n50%             2.000000                     2.000000          1.000000   \n75%             4.000000                     4.000000          1.000000   \nmax             5.000000                     5.000000          3.000000   \n\n       household_children  \ncount        26458.000000  \nmean             0.534583  \nstd              0.928173  \nmin              0.000000  \n25%              0.000000  \n50%              0.000000  \n75%              1.000000  \nmax              3.000000  \n\n[8 rows x 23 columns]",
      "text/html": "<div>\n<style scoped>\n    .dataframe tbody tr th:only-of-type {\n        vertical-align: middle;\n    }\n\n    .dataframe tbody tr th {\n        vertical-align: top;\n    }\n\n    .dataframe thead th {\n        text-align: right;\n    }\n</style>\n<table border=\"1\" class=\"dataframe\">\n  <thead>\n    <tr style=\"text-align: right;\">\n      <th></th>\n      <th>h1n1_concern</th>\n      <th>h1n1_knowledge</th>\n      <th>behavioral_antiviral_meds</th>\n      <th>behavioral_avoidance</th>\n      <th>behavioral_face_mask</th>\n      <th>behavioral_wash_hands</th>\n      <th>behavioral_large_gatherings</th>\n      <th>behavioral_outside_home</th>\n      <th>behavioral_touch_face</th>\n      <th>doctor_recc_h1n1</th>\n      <th>...</th>\n      <th>health_worker</th>\n      <th>health_insurance</th>\n      <th>opinion_h1n1_vacc_effective</th>\n      <th>opinion_h1n1_risk</th>\n      <th>opinion_h1n1_sick_from_vacc</th>\n      <th>opinion_seas_vacc_effective</th>\n      <th>opinion_seas_risk</th>\n      <th>opinion_seas_sick_from_vacc</th>\n      <th>household_adults</th>\n      <th>household_children</th>\n    </tr>\n  </thead>\n  <tbody>\n    <tr>\n      <th>count</th>\n      <td>26615.000000</td>\n      <td>26591.000000</td>\n      <td>26636.000000</td>\n      <td>26499.000000</td>\n      <td>26688.000000</td>\n      <td>26665.000000</td>\n      <td>26620.00000</td>\n      <td>26625.000000</td>\n      <td>26579.000000</td>\n      <td>24547.000000</td>\n      <td>...</td>\n      <td>25903.000000</td>\n      <td>14433.00000</td>\n      <td>26316.000000</td>\n      <td>26319.000000</td>\n      <td>26312.000000</td>\n      <td>26245.000000</td>\n      <td>26193.000000</td>\n      <td>26170.000000</td>\n      <td>26458.000000</td>\n      <td>26458.000000</td>\n    </tr>\n    <tr>\n      <th>mean</th>\n      <td>1.618486</td>\n      <td>1.262532</td>\n      <td>0.048844</td>\n      <td>0.725612</td>\n      <td>0.068982</td>\n      <td>0.825614</td>\n      <td>0.35864</td>\n      <td>0.337315</td>\n      <td>0.677264</td>\n      <td>0.220312</td>\n      <td>...</td>\n      <td>0.111918</td>\n      <td>0.87972</td>\n      <td>3.850623</td>\n      <td>2.342566</td>\n      <td>2.357670</td>\n      <td>4.025986</td>\n      <td>2.719162</td>\n      <td>2.118112</td>\n      <td>0.886499</td>\n      <td>0.534583</td>\n    </tr>\n    <tr>\n      <th>std</th>\n      <td>0.910311</td>\n      <td>0.618149</td>\n      <td>0.215545</td>\n      <td>0.446214</td>\n      <td>0.253429</td>\n      <td>0.379448</td>\n      <td>0.47961</td>\n      <td>0.472802</td>\n      <td>0.467531</td>\n      <td>0.414466</td>\n      <td>...</td>\n      <td>0.315271</td>\n      <td>0.32530</td>\n      <td>1.007436</td>\n      <td>1.285539</td>\n      <td>1.362766</td>\n      <td>1.086565</td>\n      <td>1.385055</td>\n      <td>1.332950</td>\n      <td>0.753422</td>\n      <td>0.928173</td>\n    </tr>\n    <tr>\n      <th>min</th>\n      <td>0.000000</td>\n      <td>0.000000</td>\n      <td>0.000000</td>\n      <td>0.000000</td>\n      <td>0.000000</td>\n      <td>0.000000</td>\n      <td>0.00000</td>\n      <td>0.000000</td>\n      <td>0.000000</td>\n      <td>0.000000</td>\n      <td>...</td>\n      <td>0.000000</td>\n      <td>0.00000</td>\n      <td>1.000000</td>\n      <td>1.000000</td>\n      <td>1.000000</td>\n      <td>1.000000</td>\n      <td>1.000000</td>\n      <td>1.000000</td>\n      <td>0.000000</td>\n      <td>0.000000</td>\n    </tr>\n    <tr>\n      <th>25%</th>\n      <td>1.000000</td>\n      <td>1.000000</td>\n      <td>0.000000</td>\n      <td>0.000000</td>\n      <td>0.000000</td>\n      <td>1.000000</td>\n      <td>0.00000</td>\n      <td>0.000000</td>\n      <td>0.000000</td>\n      <td>0.000000</td>\n      <td>...</td>\n      <td>0.000000</td>\n      <td>1.00000</td>\n      <td>3.000000</td>\n      <td>1.000000</td>\n      <td>1.000000</td>\n      <td>4.000000</td>\n      <td>2.000000</td>\n      <td>1.000000</td>\n      <td>0.000000</td>\n      <td>0.000000</td>\n    </tr>\n    <tr>\n      <th>50%</th>\n      <td>2.000000</td>\n      <td>1.000000</td>\n      <td>0.000000</td>\n      <td>1.000000</td>\n      <td>0.000000</td>\n      <td>1.000000</td>\n      <td>0.00000</td>\n      <td>0.000000</td>\n      <td>1.000000</td>\n      <td>0.000000</td>\n      <td>...</td>\n      <td>0.000000</td>\n      <td>1.00000</td>\n      <td>4.000000</td>\n      <td>2.000000</td>\n      <td>2.000000</td>\n      <td>4.000000</td>\n      <td>2.000000</td>\n      <td>2.000000</td>\n      <td>1.000000</td>\n      <td>0.000000</td>\n    </tr>\n    <tr>\n      <th>75%</th>\n      <td>2.000000</td>\n      <td>2.000000</td>\n      <td>0.000000</td>\n      <td>1.000000</td>\n      <td>0.000000</td>\n      <td>1.000000</td>\n      <td>1.00000</td>\n      <td>1.000000</td>\n      <td>1.000000</td>\n      <td>0.000000</td>\n      <td>...</td>\n      <td>0.000000</td>\n      <td>1.00000</td>\n      <td>5.000000</td>\n      <td>4.000000</td>\n      <td>4.000000</td>\n      <td>5.000000</td>\n      <td>4.000000</td>\n      <td>4.000000</td>\n      <td>1.000000</td>\n      <td>1.000000</td>\n    </tr>\n    <tr>\n      <th>max</th>\n      <td>3.000000</td>\n      <td>2.000000</td>\n      <td>1.000000</td>\n      <td>1.000000</td>\n      <td>1.000000</td>\n      <td>1.000000</td>\n      <td>1.00000</td>\n      <td>1.000000</td>\n      <td>1.000000</td>\n      <td>1.000000</td>\n      <td>...</td>\n      <td>1.000000</td>\n      <td>1.00000</td>\n      <td>5.000000</td>\n      <td>5.000000</td>\n      <td>5.000000</td>\n      <td>5.000000</td>\n      <td>5.000000</td>\n      <td>5.000000</td>\n      <td>3.000000</td>\n      <td>3.000000</td>\n    </tr>\n  </tbody>\n</table>\n<p>8 rows × 23 columns</p>\n</div>"
     },
     "execution_count": 17,
     "metadata": {},
     "output_type": "execute_result"
    }
   ],
   "source": [
    "# Checking features statistics\n",
    "training_features.describe()"
   ],
   "metadata": {
    "collapsed": false,
    "pycharm": {
     "name": "#%%\n"
    }
   }
  },
  {
   "cell_type": "markdown",
   "source": [
    "It looks like to me, that ALL of these are categorical."
   ],
   "metadata": {
    "collapsed": false,
    "pycharm": {
     "name": "#%% md\n"
    }
   }
  },
  {
   "cell_type": "code",
   "execution_count": 20,
   "outputs": [
    {
     "data": {
      "text/plain": "h1n1_concern                   float64\nh1n1_knowledge                 float64\nbehavioral_antiviral_meds      float64\nbehavioral_avoidance           float64\nbehavioral_face_mask           float64\nbehavioral_wash_hands          float64\nbehavioral_large_gatherings    float64\nbehavioral_outside_home        float64\nbehavioral_touch_face          float64\ndoctor_recc_h1n1               float64\ndoctor_recc_seasonal           float64\nchronic_med_condition          float64\nchild_under_6_months           float64\nhealth_worker                  float64\nhealth_insurance               float64\nopinion_h1n1_vacc_effective    float64\nopinion_h1n1_risk              float64\nopinion_h1n1_sick_from_vacc    float64\nopinion_seas_vacc_effective    float64\nopinion_seas_risk              float64\nopinion_seas_sick_from_vacc    float64\nage_group                       object\neducation                       object\nrace                            object\nsex                             object\nincome_poverty                  object\nmarital_status                  object\nrent_or_own                     object\nemployment_status               object\nhhs_geo_region                  object\ncensus_msa                      object\nhousehold_adults               float64\nhousehold_children             float64\nemployment_industry             object\nemployment_occupation           object\ndtype: object"
     },
     "execution_count": 20,
     "metadata": {},
     "output_type": "execute_result"
    }
   ],
   "source": [
    "# Checking Data Types\n",
    "training_features.dtypes\n"
   ],
   "metadata": {
    "collapsed": false,
    "pycharm": {
     "name": "#%%\n"
    }
   }
  },
  {
   "cell_type": "markdown",
   "source": [
    "Most likley going to have to encode...all of this."
   ],
   "metadata": {
    "collapsed": false,
    "pycharm": {
     "name": "#%% md\n"
    }
   }
  },
  {
   "cell_type": "markdown",
   "source": [
    "### Modeless Baseline"
   ],
   "metadata": {
    "collapsed": false
   }
  },
  {
   "cell_type": "code",
   "execution_count": 72,
   "outputs": [
    {
     "data": {
      "text/plain": "0    0.787546\n1    0.212454\nName: h1n1_vaccine, dtype: float64"
     },
     "execution_count": 72,
     "metadata": {},
     "output_type": "execute_result"
    }
   ],
   "source": [
    "# Modeless Baseline\n",
    "training_labels['h1n1_vaccine'].value_counts(normalize=True)"
   ],
   "metadata": {
    "collapsed": false,
    "pycharm": {
     "name": "#%%\n"
    }
   }
  },
  {
   "cell_type": "markdown",
   "source": [
    "In this context, a modeless baseline would have an accuracy of ~0.79 and would guess 0 every single time."
   ],
   "metadata": {
    "collapsed": false,
    "pycharm": {
     "name": "#%% md\n"
    }
   }
  },
  {
   "cell_type": "code",
   "execution_count": 73,
   "outputs": [
    {
     "data": {
      "text/plain": "<Figure size 720x576 with 1 Axes>",
      "image/png": "[encoded data removed]"
     },
     "metadata": {
      "needs_background": "light"
     },
     "output_type": "display_data"
    }
   ],
   "source": [
    "# Visual for distribution of people who received the H1N1 Vaccine\n",
    "fig, ax = plt.subplots(figsize=(10,8))\n",
    "\n",
    "(training_labels['h1n1_vaccine'].value_counts().plot.bar(title=\"Respondents who Received H1N1 Vaccine\", ax=ax))\n",
    "ax.set_ylabel(\"Number of People\")\n",
    "plt.xticks([0, 1], ['Unvaccinated', 'Vaccinated'], rotation=0)"
   ],
   "metadata": {
    "collapsed": false,
    "pycharm": {
     "name": "#%%\n"
    }
   }
  },
  {
   "cell_type": "code",
   "execution_count": null,
   "outputs": [],
   "source": [],
   "metadata": {
    "collapsed": false,
    "pycharm": {
     "name": "#%%\n"
    }
   }
  }
 ],
 "metadata": {
  "kernelspec": {
   "name": "python3",
   "language": "python",
   "display_name": "Python 3"
  },
  "language_info": {
   "codemirror_mode": {
    "name": "ipython",
    "version": 2
   },
   "file_extension": ".py",
   "mimetype": "text/x-python",
   "name": "python",
   "nbconvert_exporter": "python",
   "pygments_lexer": "ipython2",
   "version": "2.7.6"
  }
 },
 "nbformat": 4,
 "nbformat_minor": 0
}